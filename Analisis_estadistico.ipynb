{
 "cells": [
  {
   "cell_type": "markdown",
   "source": "# How to make a statistical analysis\n\nPara hacernos una imagen de los datos, lo primero que tenemos que hacer es agruparlos. Al armar diferentes grupos nos vamos acercando a la comprensión de los datos.\n\n La idea es ir amontonamos las cosas que parecen ir juntas, para poder ver como se distribuyen a través de las diferentes categorías\n\nDescriptive statistics include those that summarize the central tendency, dispersion and shape of a dataset's distribution, excluding ``NaN`` values.\n\n### - Data exploration\nImporting the data:\n- Formats: csv, json, xlsx.\n- Sources  : Local, Internet.\n- `pd.read_csv(path)`\n1. Explore and identify the type of data to determine which statistical methods to apply\n    - the data attributes can be categorical/**cualitative** or numerical/**cuantitative**, depending of the type of variable we can apply different methods.\n        - Categorical data : **Object** , **Bool**\n        - Numerical data   : **int64**(Discret), **Float64**(Continue)\n        - `df.describe(include='all')` Makes an basic statistical analýsis of every attribute\n2. Cleaning the data\n    - after exploring the data we should be aware of Null values or errors, which will affect the analysis results.\n    - we need to decide how to proceed depending in the amount of Null or error values\n    - we can remove or fill in the missing data. ",
   "metadata": {
    "cell_id": "dc34b21532f04473bf8d44cff7c91a57",
    "tags": [],
    "owner_user_id": "3bc35f6e-3bb3-4aa9-bdbd-f6d7a1faca9f",
    "deepnote_cell_type": "markdown",
    "deepnote_cell_height": 1238.84375
   }
  },
  {
   "cell_type": "markdown",
   "source": "[Dataset](https://www.kaggle.com/datasets/fedesoriano/heart-failure-prediction)",
   "metadata": {
    "cell_id": "4c4f6c4c8e01436299e6704e4280b287",
    "tags": [],
    "deepnote_cell_type": "markdown",
    "deepnote_cell_height": 52.359375
   }
  },
  {
   "cell_type": "code",
   "metadata": {
    "tags": [],
    "cell_id": "a207d5a3-0894-4058-98ea-110bd84c0864",
    "deepnote_to_be_reexecuted": false,
    "source_hash": "8f0069b2",
    "execution_start": 1649904144730,
    "execution_millis": 2693,
    "deepnote_cell_type": "code",
    "deepnote_cell_height": 206.953125
   },
   "source": "import pandas as pd\nimport numpy as np\nimport seaborn as sns\nimport matplotlib.pyplot as plt\nfrom sklearn.model_selection import train_test_split\nfrom sklearn.linear_model import LinearRegression\n\ndf = pd.read_csv('/work/heart.csv')",
   "execution_count": null,
   "outputs": []
  },
  {
   "cell_type": "markdown",
   "source": "### 1. Data exploration\n\n- it's important to examine the data so we can define the data types, validation, data cleaning\n- the first **data exploration** its done using the following methods:\n    - `df.shape` to determine the number of attributes and observations\n    - `df.head()` & `df.tail()` to show the first and last obsevations of the dataframe\n    - `df.sample()` to show n number of random observations\n    - `df.dtypes` to specify the **data type** of each column \n    - `df.info()` determines the number of **null values** for each attribute\n    - `df.describe()` to recieve a **basic analysis** of the data that includes, mean, std deviation, quartiles and values counts for categorical variables.\n    - We can explore or change the columns names with the method:  `df.columns`\n    ",
   "metadata": {
    "cell_id": "75887ea4bb5b4cde81ae25a85a6b2f0b",
    "tags": [],
    "deepnote_cell_type": "markdown",
    "deepnote_cell_height": 339.921875
   }
  },
  {
   "cell_type": "markdown",
   "source": "### 2. Cleaning the data\n#### What to do with missing values\n- **Verificar** con la persona que recopiló los datos si se puede encontrar el valor faltante\n- **Eliminar** los datos donde se encuentra el valor perdido, elimando toda la fila. Solamente se hace cuando son pocas las filas con datos perdidos (no es ideal eliminar datos)\n    - con el método `dropna` podemos eliminar los datos, usando los argumentos `axis=0` para eliminar filas y  `axis=1` para eliminar columnas: `df.dropna(axis= 0)`\n    - Podemos escoger una columna para buscar los na pasando el argumento `df.dropna(subset=['column_name'], axis=0)`\n    - Estos métodos no alteran el dataframe original sino que crean un copia, si deseamos alterar el df debemos pasar el argumento `inplace = True` al final de la función `df.dropna(subset=['column_name'], axis=0, inplace=True)`\n- **Reemplazar** los datos, se puede hacer calculando el valor promedio de la variable completa.\n    - se utiliza el método `replace(old_data, new_data)` --> `df['columna3'].replace(np.nan, new_value)`\n    - `df['column'].fillna(0)` Fill `None` with a number \n    - `df['column'].fillna(method= 'bfill')` Fill `None` with the next index value\n    - `df['column'].fillna(method= 'ffill')` Fill `None` with the previous index value\n    - `df['column'].fillna(method= 'linear')` Fill `None` with a linear interpolation model\n\n\n\n- **Dejar** los datos faltantes como datos perdidos.",
   "metadata": {
    "cell_id": "bd5e9cc9733f4953891b8ad4bb2893df",
    "tags": [],
    "deepnote_cell_type": "markdown",
    "deepnote_cell_height": 563.28125
   }
  },
  {
   "cell_type": "code",
   "metadata": {
    "cell_id": "12a2200e1ecc40c49863537a09623625",
    "tags": [],
    "deepnote_to_be_reexecuted": false,
    "source_hash": "6ef4ab7e",
    "execution_start": 1649904147430,
    "execution_millis": 12,
    "deepnote_cell_type": "code",
    "deepnote_cell_height": 188.953125
   },
   "source": "df.rename({'FastingBS':'Diabetes'}, inplace=True)\ndf['ExerciseAngina'].replace(['Y','N'],[1,0], inplace=True) \ndf = df.astype({'ExerciseAngina':'bool'}, copy=False) \ndf['RestingBP'].replace(0, 95, inplace=True) \n\n# replacing 0 values in cholesterol with a normal random distribution from 244 mean and 59 std deviation\n# df.loc[df['Cholesterol'] == 0 ,'Cholesterol'] = np.random.normal(244,59, len(df.loc[df['Cholesterol'] == 0]))",
   "execution_count": null,
   "outputs": []
  },
  {
   "cell_type": "markdown",
   "source": "#### Medidas de Tendencia Central\n\nNos dan una noción de donde están los datos usamos el promedio y la mediana principalmente\n\n#### Medidas de dispersión\n\nCon respecto a la medida central nos dice que tan dispersos están los datos",
   "metadata": {
    "cell_id": "f9a111d02086470fa1e4f52cfb540b2c",
    "tags": [],
    "deepnote_cell_type": "markdown",
    "deepnote_cell_height": 166.71875
   }
  },
  {
   "cell_type": "markdown",
   "source": "##### Cambiar variables categóricas a numéricas\n- La mayoría de algoritmos de machine learning no aceptan cadenas de carácteres como enradas, debemos cambiar las variables categoricas a cualitativas numéricas, porque no se comportan como numeros si no solamente para generar una categoría basada en numeros\n- Se utilizar el método `pd.get_dummies(df, columns = ['sex'], drop_first= True)`\n- éste método crea tantas nuevas columnas como categorías en el atributo\n- en este ejemplo crearía las columas `sex_F` y `sex_M`\n\n#### Realizando un diagrama de frecuencias en un atributo continuo\n- debemos agrupar los datos en rangos de datos\n    - Encontrar el rango máximo de datos (max - min)\n    - Encontrar la cantidad de intervalos o grupos (valor entero): $1+3.22*Log(n)$ `n: numero de datos`\n    - Encontrar la amplitud de los intervalos: $\\dfrac{range}{groups}$\n    - podemos usar `df['columna'].plot.hist(bins= groups)`\n\n##### Agrupando datos con pandas\n- podemos agrupar conjuntos de datos numéricos con una categoría si esto facilita los análisis, por ejemplo rangos de edad.\n- utilizamos el método `pd.cut`\n- primero creamos una variable bins con una lista de los rangos `bins = [0,5,12,24,40,60,100]`\n- `names = ['1','2','3','4','5','6']` variable con el nombre de etiqueta de los nuevos rangos\n- `df['Edad'] = pd.cut(df['Edad'], bins, labels= names)`",
   "metadata": {
    "cell_id": "0f098de65d0346ca991e49ca2f57f0b0",
    "tags": [],
    "deepnote_cell_type": "markdown",
    "deepnote_cell_height": 610.9375
   }
  },
  {
   "cell_type": "code",
   "metadata": {
    "cell_id": "e0e87af987ec497eb4ad0e06bb0c1406",
    "tags": [],
    "deepnote_to_be_reexecuted": false,
    "source_hash": "f61d71e8",
    "execution_start": 1649904158142,
    "execution_millis": 9,
    "deepnote_table_state": {
     "pageSize": 10,
     "pageIndex": 0,
     "filters": [],
     "sortBy": [
      {
       "id": "Cholesterol",
       "type": "asc"
      }
     ]
    },
    "deepnote_table_loading": false,
    "output_cleared": false,
    "deepnote_cell_type": "code",
    "deepnote_cell_height": 80.953125
   },
   "source": "df = pd.get_dummies(df, columns = ['Sex','ChestPainType','RestingECG','ST_Slope'], drop_first= True)",
   "execution_count": null,
   "outputs": []
  },
  {
   "cell_type": "code",
   "metadata": {
    "cell_id": "1d2e70a9d0b34b41b4fe511efc2fb3f7",
    "tags": [],
    "deepnote_to_be_reexecuted": false,
    "source_hash": "14f60b8f",
    "execution_start": 1649904163869,
    "execution_millis": 9,
    "deepnote_cell_type": "code",
    "deepnote_cell_height": 118.125,
    "deepnote_output_heights": [
     21.1875
    ]
   },
   "source": "df.shape",
   "execution_count": null,
   "outputs": [
    {
     "output_type": "execute_result",
     "execution_count": 5,
     "data": {
      "text/plain": "(918, 16)"
     },
     "metadata": {}
    }
   ]
  },
  {
   "cell_type": "code",
   "metadata": {
    "cell_id": "9bc9e415cb4b46e8aac90d4a69c386ef",
    "tags": [],
    "deepnote_to_be_reexecuted": false,
    "source_hash": "9cf73348",
    "execution_start": 1649904178525,
    "execution_millis": 1,
    "deepnote_cell_type": "code",
    "deepnote_cell_height": 98.953125
   },
   "source": "column = df.pop('HeartDisease')\ndf.insert(15, 'HeartDisease', column)",
   "execution_count": null,
   "outputs": []
  },
  {
   "cell_type": "code",
   "metadata": {
    "cell_id": "2c7097abace14de7b9d2de5e9a0942d9",
    "tags": [],
    "deepnote_to_be_reexecuted": false,
    "source_hash": "c085b6ba",
    "execution_start": 1649904180685,
    "execution_millis": 68,
    "deepnote_cell_type": "code",
    "deepnote_cell_height": 410.34375
   },
   "source": "df.head()",
   "execution_count": null,
   "outputs": [
    {
     "output_type": "execute_result",
     "execution_count": 7,
     "data": {
      "application/vnd.deepnote.dataframe.v3+json": {
       "column_count": 16,
       "row_count": 5,
       "columns": [
        {
         "name": "Age",
         "dtype": "int64",
         "stats": {
          "unique_count": 5,
          "nan_count": 0,
          "min": "37",
          "max": "54",
          "histogram": [
           {
            "bin_start": 37,
            "bin_end": 38.7,
            "count": 1
           },
           {
            "bin_start": 38.7,
            "bin_end": 40.4,
            "count": 1
           },
           {
            "bin_start": 40.4,
            "bin_end": 42.1,
            "count": 0
           },
           {
            "bin_start": 42.1,
            "bin_end": 43.8,
            "count": 0
           },
           {
            "bin_start": 43.8,
            "bin_end": 45.5,
            "count": 0
           },
           {
            "bin_start": 45.5,
            "bin_end": 47.2,
            "count": 0
           },
           {
            "bin_start": 47.2,
            "bin_end": 48.9,
            "count": 1
           },
           {
            "bin_start": 48.9,
            "bin_end": 50.6,
            "count": 1
           },
           {
            "bin_start": 50.6,
            "bin_end": 52.3,
            "count": 0
           },
           {
            "bin_start": 52.3,
            "bin_end": 54,
            "count": 1
           }
          ]
         }
        },
        {
         "name": "RestingBP",
         "dtype": "int64",
         "stats": {
          "unique_count": 5,
          "nan_count": 0,
          "min": "130",
          "max": "160",
          "histogram": [
           {
            "bin_start": 130,
            "bin_end": 133,
            "count": 1
           },
           {
            "bin_start": 133,
            "bin_end": 136,
            "count": 0
           },
           {
            "bin_start": 136,
            "bin_end": 139,
            "count": 1
           },
           {
            "bin_start": 139,
            "bin_end": 142,
            "count": 1
           },
           {
            "bin_start": 142,
            "bin_end": 145,
            "count": 0
           },
           {
            "bin_start": 145,
            "bin_end": 148,
            "count": 0
           },
           {
            "bin_start": 148,
            "bin_end": 151,
            "count": 1
           },
           {
            "bin_start": 151,
            "bin_end": 154,
            "count": 0
           },
           {
            "bin_start": 154,
            "bin_end": 157,
            "count": 0
           },
           {
            "bin_start": 157,
            "bin_end": 160,
            "count": 1
           }
          ]
         }
        },
        {
         "name": "Cholesterol",
         "dtype": "int64",
         "stats": {
          "unique_count": 5,
          "nan_count": 0,
          "min": "180",
          "max": "289",
          "histogram": [
           {
            "bin_start": 180,
            "bin_end": 190.9,
            "count": 1
           },
           {
            "bin_start": 190.9,
            "bin_end": 201.8,
            "count": 1
           },
           {
            "bin_start": 201.8,
            "bin_end": 212.7,
            "count": 0
           },
           {
            "bin_start": 212.7,
            "bin_end": 223.6,
            "count": 1
           },
           {
            "bin_start": 223.6,
            "bin_end": 234.5,
            "count": 0
           },
           {
            "bin_start": 234.5,
            "bin_end": 245.4,
            "count": 0
           },
           {
            "bin_start": 245.4,
            "bin_end": 256.3,
            "count": 0
           },
           {
            "bin_start": 256.3,
            "bin_end": 267.2,
            "count": 0
           },
           {
            "bin_start": 267.2,
            "bin_end": 278.1,
            "count": 0
           },
           {
            "bin_start": 278.1,
            "bin_end": 289,
            "count": 2
           }
          ]
         }
        },
        {
         "name": "FastingBS",
         "dtype": "int64",
         "stats": {
          "unique_count": 1,
          "nan_count": 0,
          "min": "0",
          "max": "0",
          "histogram": [
           {
            "bin_start": -0.5,
            "bin_end": -0.4,
            "count": 0
           },
           {
            "bin_start": -0.4,
            "bin_end": -0.3,
            "count": 0
           },
           {
            "bin_start": -0.3,
            "bin_end": -0.19999999999999996,
            "count": 0
           },
           {
            "bin_start": -0.19999999999999996,
            "bin_end": -0.09999999999999998,
            "count": 0
           },
           {
            "bin_start": -0.09999999999999998,
            "bin_end": 0,
            "count": 0
           },
           {
            "bin_start": 0,
            "bin_end": 0.10000000000000009,
            "count": 5
           },
           {
            "bin_start": 0.10000000000000009,
            "bin_end": 0.20000000000000007,
            "count": 0
           },
           {
            "bin_start": 0.20000000000000007,
            "bin_end": 0.30000000000000004,
            "count": 0
           },
           {
            "bin_start": 0.30000000000000004,
            "bin_end": 0.4,
            "count": 0
           },
           {
            "bin_start": 0.4,
            "bin_end": 0.5,
            "count": 0
           }
          ]
         }
        },
        {
         "name": "MaxHR",
         "dtype": "int64",
         "stats": {
          "unique_count": 5,
          "nan_count": 0,
          "min": "98",
          "max": "172",
          "histogram": [
           {
            "bin_start": 98,
            "bin_end": 105.4,
            "count": 1
           },
           {
            "bin_start": 105.4,
            "bin_end": 112.8,
            "count": 1
           },
           {
            "bin_start": 112.8,
            "bin_end": 120.2,
            "count": 0
           },
           {
            "bin_start": 120.2,
            "bin_end": 127.6,
            "count": 1
           },
           {
            "bin_start": 127.6,
            "bin_end": 135,
            "count": 0
           },
           {
            "bin_start": 135,
            "bin_end": 142.4,
            "count": 0
           },
           {
            "bin_start": 142.4,
            "bin_end": 149.8,
            "count": 0
           },
           {
            "bin_start": 149.8,
            "bin_end": 157.2,
            "count": 1
           },
           {
            "bin_start": 157.2,
            "bin_end": 164.60000000000002,
            "count": 0
           },
           {
            "bin_start": 164.60000000000002,
            "bin_end": 172,
            "count": 1
           }
          ]
         }
        },
        {
         "name": "ExerciseAngina",
         "dtype": "bool",
         "stats": {
          "unique_count": 2,
          "nan_count": 0,
          "categories": [
           {
            "name": "False",
            "count": 4
           },
           {
            "name": "True",
            "count": 1
           }
          ]
         }
        },
        {
         "name": "Oldpeak",
         "dtype": "float64",
         "stats": {
          "unique_count": 3,
          "nan_count": 0,
          "min": "0.0",
          "max": "1.5",
          "histogram": [
           {
            "bin_start": 0,
            "bin_end": 0.15,
            "count": 3
           },
           {
            "bin_start": 0.15,
            "bin_end": 0.3,
            "count": 0
           },
           {
            "bin_start": 0.3,
            "bin_end": 0.44999999999999996,
            "count": 0
           },
           {
            "bin_start": 0.44999999999999996,
            "bin_end": 0.6,
            "count": 0
           },
           {
            "bin_start": 0.6,
            "bin_end": 0.75,
            "count": 0
           },
           {
            "bin_start": 0.75,
            "bin_end": 0.8999999999999999,
            "count": 0
           },
           {
            "bin_start": 0.8999999999999999,
            "bin_end": 1.05,
            "count": 1
           },
           {
            "bin_start": 1.05,
            "bin_end": 1.2,
            "count": 0
           },
           {
            "bin_start": 1.2,
            "bin_end": 1.3499999999999999,
            "count": 0
           },
           {
            "bin_start": 1.3499999999999999,
            "bin_end": 1.5,
            "count": 1
           }
          ]
         }
        },
        {
         "name": "Sex_M",
         "dtype": "uint8",
         "stats": {
          "unique_count": 2,
          "nan_count": 0,
          "min": "0",
          "max": "1",
          "histogram": [
           {
            "bin_start": 0,
            "bin_end": 0.1,
            "count": 2
           },
           {
            "bin_start": 0.1,
            "bin_end": 0.2,
            "count": 0
           },
           {
            "bin_start": 0.2,
            "bin_end": 0.30000000000000004,
            "count": 0
           },
           {
            "bin_start": 0.30000000000000004,
            "bin_end": 0.4,
            "count": 0
           },
           {
            "bin_start": 0.4,
            "bin_end": 0.5,
            "count": 0
           },
           {
            "bin_start": 0.5,
            "bin_end": 0.6000000000000001,
            "count": 0
           },
           {
            "bin_start": 0.6000000000000001,
            "bin_end": 0.7000000000000001,
            "count": 0
           },
           {
            "bin_start": 0.7000000000000001,
            "bin_end": 0.8,
            "count": 0
           },
           {
            "bin_start": 0.8,
            "bin_end": 0.9,
            "count": 0
           },
           {
            "bin_start": 0.9,
            "bin_end": 1,
            "count": 3
           }
          ]
         }
        },
        {
         "name": "ChestPainType_ATA",
         "dtype": "uint8",
         "stats": {
          "unique_count": 2,
          "nan_count": 0,
          "min": "0",
          "max": "1",
          "histogram": [
           {
            "bin_start": 0,
            "bin_end": 0.1,
            "count": 3
           },
           {
            "bin_start": 0.1,
            "bin_end": 0.2,
            "count": 0
           },
           {
            "bin_start": 0.2,
            "bin_end": 0.30000000000000004,
            "count": 0
           },
           {
            "bin_start": 0.30000000000000004,
            "bin_end": 0.4,
            "count": 0
           },
           {
            "bin_start": 0.4,
            "bin_end": 0.5,
            "count": 0
           },
           {
            "bin_start": 0.5,
            "bin_end": 0.6000000000000001,
            "count": 0
           },
           {
            "bin_start": 0.6000000000000001,
            "bin_end": 0.7000000000000001,
            "count": 0
           },
           {
            "bin_start": 0.7000000000000001,
            "bin_end": 0.8,
            "count": 0
           },
           {
            "bin_start": 0.8,
            "bin_end": 0.9,
            "count": 0
           },
           {
            "bin_start": 0.9,
            "bin_end": 1,
            "count": 2
           }
          ]
         }
        },
        {
         "name": "ChestPainType_NAP",
         "dtype": "uint8",
         "stats": {
          "unique_count": 2,
          "nan_count": 0,
          "min": "0",
          "max": "1",
          "histogram": [
           {
            "bin_start": 0,
            "bin_end": 0.1,
            "count": 3
           },
           {
            "bin_start": 0.1,
            "bin_end": 0.2,
            "count": 0
           },
           {
            "bin_start": 0.2,
            "bin_end": 0.30000000000000004,
            "count": 0
           },
           {
            "bin_start": 0.30000000000000004,
            "bin_end": 0.4,
            "count": 0
           },
           {
            "bin_start": 0.4,
            "bin_end": 0.5,
            "count": 0
           },
           {
            "bin_start": 0.5,
            "bin_end": 0.6000000000000001,
            "count": 0
           },
           {
            "bin_start": 0.6000000000000001,
            "bin_end": 0.7000000000000001,
            "count": 0
           },
           {
            "bin_start": 0.7000000000000001,
            "bin_end": 0.8,
            "count": 0
           },
           {
            "bin_start": 0.8,
            "bin_end": 0.9,
            "count": 0
           },
           {
            "bin_start": 0.9,
            "bin_end": 1,
            "count": 2
           }
          ]
         }
        },
        {
         "name": "ChestPainType_TA",
         "dtype": "uint8",
         "stats": {
          "unique_count": 1,
          "nan_count": 0,
          "min": "0",
          "max": "0",
          "histogram": [
           {
            "bin_start": -0.5,
            "bin_end": -0.4,
            "count": 0
           },
           {
            "bin_start": -0.4,
            "bin_end": -0.3,
            "count": 0
           },
           {
            "bin_start": -0.3,
            "bin_end": -0.19999999999999996,
            "count": 0
           },
           {
            "bin_start": -0.19999999999999996,
            "bin_end": -0.09999999999999998,
            "count": 0
           },
           {
            "bin_start": -0.09999999999999998,
            "bin_end": 0,
            "count": 0
           },
           {
            "bin_start": 0,
            "bin_end": 0.10000000000000009,
            "count": 5
           },
           {
            "bin_start": 0.10000000000000009,
            "bin_end": 0.20000000000000007,
            "count": 0
           },
           {
            "bin_start": 0.20000000000000007,
            "bin_end": 0.30000000000000004,
            "count": 0
           },
           {
            "bin_start": 0.30000000000000004,
            "bin_end": 0.4,
            "count": 0
           },
           {
            "bin_start": 0.4,
            "bin_end": 0.5,
            "count": 0
           }
          ]
         }
        },
        {
         "name": "RestingECG_Normal",
         "dtype": "uint8",
         "stats": {
          "unique_count": 2,
          "nan_count": 0,
          "min": "0",
          "max": "1",
          "histogram": [
           {
            "bin_start": 0,
            "bin_end": 0.1,
            "count": 1
           },
           {
            "bin_start": 0.1,
            "bin_end": 0.2,
            "count": 0
           },
           {
            "bin_start": 0.2,
            "bin_end": 0.30000000000000004,
            "count": 0
           },
           {
            "bin_start": 0.30000000000000004,
            "bin_end": 0.4,
            "count": 0
           },
           {
            "bin_start": 0.4,
            "bin_end": 0.5,
            "count": 0
           },
           {
            "bin_start": 0.5,
            "bin_end": 0.6000000000000001,
            "count": 0
           },
           {
            "bin_start": 0.6000000000000001,
            "bin_end": 0.7000000000000001,
            "count": 0
           },
           {
            "bin_start": 0.7000000000000001,
            "bin_end": 0.8,
            "count": 0
           },
           {
            "bin_start": 0.8,
            "bin_end": 0.9,
            "count": 0
           },
           {
            "bin_start": 0.9,
            "bin_end": 1,
            "count": 4
           }
          ]
         }
        },
        {
         "name": "RestingECG_ST",
         "dtype": "uint8",
         "stats": {
          "unique_count": 2,
          "nan_count": 0,
          "min": "0",
          "max": "1",
          "histogram": [
           {
            "bin_start": 0,
            "bin_end": 0.1,
            "count": 4
           },
           {
            "bin_start": 0.1,
            "bin_end": 0.2,
            "count": 0
           },
           {
            "bin_start": 0.2,
            "bin_end": 0.30000000000000004,
            "count": 0
           },
           {
            "bin_start": 0.30000000000000004,
            "bin_end": 0.4,
            "count": 0
           },
           {
            "bin_start": 0.4,
            "bin_end": 0.5,
            "count": 0
           },
           {
            "bin_start": 0.5,
            "bin_end": 0.6000000000000001,
            "count": 0
           },
           {
            "bin_start": 0.6000000000000001,
            "bin_end": 0.7000000000000001,
            "count": 0
           },
           {
            "bin_start": 0.7000000000000001,
            "bin_end": 0.8,
            "count": 0
           },
           {
            "bin_start": 0.8,
            "bin_end": 0.9,
            "count": 0
           },
           {
            "bin_start": 0.9,
            "bin_end": 1,
            "count": 1
           }
          ]
         }
        },
        {
         "name": "ST_Slope_Flat",
         "dtype": "uint8",
         "stats": {
          "unique_count": 2,
          "nan_count": 0,
          "min": "0",
          "max": "1",
          "histogram": [
           {
            "bin_start": 0,
            "bin_end": 0.1,
            "count": 3
           },
           {
            "bin_start": 0.1,
            "bin_end": 0.2,
            "count": 0
           },
           {
            "bin_start": 0.2,
            "bin_end": 0.30000000000000004,
            "count": 0
           },
           {
            "bin_start": 0.30000000000000004,
            "bin_end": 0.4,
            "count": 0
           },
           {
            "bin_start": 0.4,
            "bin_end": 0.5,
            "count": 0
           },
           {
            "bin_start": 0.5,
            "bin_end": 0.6000000000000001,
            "count": 0
           },
           {
            "bin_start": 0.6000000000000001,
            "bin_end": 0.7000000000000001,
            "count": 0
           },
           {
            "bin_start": 0.7000000000000001,
            "bin_end": 0.8,
            "count": 0
           },
           {
            "bin_start": 0.8,
            "bin_end": 0.9,
            "count": 0
           },
           {
            "bin_start": 0.9,
            "bin_end": 1,
            "count": 2
           }
          ]
         }
        },
        {
         "name": "ST_Slope_Up",
         "dtype": "uint8",
         "stats": {
          "unique_count": 2,
          "nan_count": 0,
          "min": "0",
          "max": "1",
          "histogram": [
           {
            "bin_start": 0,
            "bin_end": 0.1,
            "count": 2
           },
           {
            "bin_start": 0.1,
            "bin_end": 0.2,
            "count": 0
           },
           {
            "bin_start": 0.2,
            "bin_end": 0.30000000000000004,
            "count": 0
           },
           {
            "bin_start": 0.30000000000000004,
            "bin_end": 0.4,
            "count": 0
           },
           {
            "bin_start": 0.4,
            "bin_end": 0.5,
            "count": 0
           },
           {
            "bin_start": 0.5,
            "bin_end": 0.6000000000000001,
            "count": 0
           },
           {
            "bin_start": 0.6000000000000001,
            "bin_end": 0.7000000000000001,
            "count": 0
           },
           {
            "bin_start": 0.7000000000000001,
            "bin_end": 0.8,
            "count": 0
           },
           {
            "bin_start": 0.8,
            "bin_end": 0.9,
            "count": 0
           },
           {
            "bin_start": 0.9,
            "bin_end": 1,
            "count": 3
           }
          ]
         }
        },
        {
         "name": "HeartDisease",
         "dtype": "int64",
         "stats": {
          "unique_count": 2,
          "nan_count": 0,
          "min": "0",
          "max": "1",
          "histogram": [
           {
            "bin_start": 0,
            "bin_end": 0.1,
            "count": 3
           },
           {
            "bin_start": 0.1,
            "bin_end": 0.2,
            "count": 0
           },
           {
            "bin_start": 0.2,
            "bin_end": 0.30000000000000004,
            "count": 0
           },
           {
            "bin_start": 0.30000000000000004,
            "bin_end": 0.4,
            "count": 0
           },
           {
            "bin_start": 0.4,
            "bin_end": 0.5,
            "count": 0
           },
           {
            "bin_start": 0.5,
            "bin_end": 0.6000000000000001,
            "count": 0
           },
           {
            "bin_start": 0.6000000000000001,
            "bin_end": 0.7000000000000001,
            "count": 0
           },
           {
            "bin_start": 0.7000000000000001,
            "bin_end": 0.8,
            "count": 0
           },
           {
            "bin_start": 0.8,
            "bin_end": 0.9,
            "count": 0
           },
           {
            "bin_start": 0.9,
            "bin_end": 1,
            "count": 2
           }
          ]
         }
        },
        {
         "name": "_deepnote_index_column",
         "dtype": "int64"
        }
       ],
       "rows": [
        {
         "Age": 49,
         "RestingBP": 160,
         "Cholesterol": 180,
         "FastingBS": 0,
         "MaxHR": 156,
         "ExerciseAngina": false,
         "Oldpeak": 1,
         "Sex_M": 0,
         "ChestPainType_ATA": 0,
         "ChestPainType_NAP": 1,
         "ChestPainType_TA": 0,
         "RestingECG_Normal": 1,
         "RestingECG_ST": 0,
         "ST_Slope_Flat": 1,
         "ST_Slope_Up": 0,
         "HeartDisease": 1,
         "_deepnote_index_column": 1
        },
        {
         "Age": 54,
         "RestingBP": 150,
         "Cholesterol": 195,
         "FastingBS": 0,
         "MaxHR": 122,
         "ExerciseAngina": false,
         "Oldpeak": 0,
         "Sex_M": 1,
         "ChestPainType_ATA": 0,
         "ChestPainType_NAP": 1,
         "ChestPainType_TA": 0,
         "RestingECG_Normal": 1,
         "RestingECG_ST": 0,
         "ST_Slope_Flat": 0,
         "ST_Slope_Up": 1,
         "HeartDisease": 0,
         "_deepnote_index_column": 4
        },
        {
         "Age": 48,
         "RestingBP": 138,
         "Cholesterol": 214,
         "FastingBS": 0,
         "MaxHR": 108,
         "ExerciseAngina": true,
         "Oldpeak": 1.5,
         "Sex_M": 0,
         "ChestPainType_ATA": 0,
         "ChestPainType_NAP": 0,
         "ChestPainType_TA": 0,
         "RestingECG_Normal": 1,
         "RestingECG_ST": 0,
         "ST_Slope_Flat": 1,
         "ST_Slope_Up": 0,
         "HeartDisease": 1,
         "_deepnote_index_column": 3
        },
        {
         "Age": 37,
         "RestingBP": 130,
         "Cholesterol": 283,
         "FastingBS": 0,
         "MaxHR": 98,
         "ExerciseAngina": false,
         "Oldpeak": 0,
         "Sex_M": 1,
         "ChestPainType_ATA": 1,
         "ChestPainType_NAP": 0,
         "ChestPainType_TA": 0,
         "RestingECG_Normal": 0,
         "RestingECG_ST": 1,
         "ST_Slope_Flat": 0,
         "ST_Slope_Up": 1,
         "HeartDisease": 0,
         "_deepnote_index_column": 2
        },
        {
         "Age": 40,
         "RestingBP": 140,
         "Cholesterol": 289,
         "FastingBS": 0,
         "MaxHR": 172,
         "ExerciseAngina": false,
         "Oldpeak": 0,
         "Sex_M": 1,
         "ChestPainType_ATA": 1,
         "ChestPainType_NAP": 0,
         "ChestPainType_TA": 0,
         "RestingECG_Normal": 1,
         "RestingECG_ST": 0,
         "ST_Slope_Flat": 0,
         "ST_Slope_Up": 1,
         "HeartDisease": 0,
         "_deepnote_index_column": 0
        }
       ]
      },
      "text/plain": "   Age  RestingBP  Cholesterol  FastingBS  MaxHR  ExerciseAngina  Oldpeak  \\\n0   40        140          289          0    172           False      0.0   \n1   49        160          180          0    156           False      1.0   \n2   37        130          283          0     98           False      0.0   \n3   48        138          214          0    108            True      1.5   \n4   54        150          195          0    122           False      0.0   \n\n   Sex_M  ChestPainType_ATA  ChestPainType_NAP  ChestPainType_TA  \\\n0      1                  1                  0                 0   \n1      0                  0                  1                 0   \n2      1                  1                  0                 0   \n3      0                  0                  0                 0   \n4      1                  0                  1                 0   \n\n   RestingECG_Normal  RestingECG_ST  ST_Slope_Flat  ST_Slope_Up  HeartDisease  \n0                  1              0              0            1             0  \n1                  1              0              1            0             1  \n2                  0              1              0            1             0  \n3                  1              0              1            0             1  \n4                  1              0              0            1             0  ",
      "text/html": "<div>\n<style scoped>\n    .dataframe tbody tr th:only-of-type {\n        vertical-align: middle;\n    }\n\n    .dataframe tbody tr th {\n        vertical-align: top;\n    }\n\n    .dataframe thead th {\n        text-align: right;\n    }\n</style>\n<table border=\"1\" class=\"dataframe\">\n  <thead>\n    <tr style=\"text-align: right;\">\n      <th></th>\n      <th>Age</th>\n      <th>RestingBP</th>\n      <th>Cholesterol</th>\n      <th>FastingBS</th>\n      <th>MaxHR</th>\n      <th>ExerciseAngina</th>\n      <th>Oldpeak</th>\n      <th>Sex_M</th>\n      <th>ChestPainType_ATA</th>\n      <th>ChestPainType_NAP</th>\n      <th>ChestPainType_TA</th>\n      <th>RestingECG_Normal</th>\n      <th>RestingECG_ST</th>\n      <th>ST_Slope_Flat</th>\n      <th>ST_Slope_Up</th>\n      <th>HeartDisease</th>\n    </tr>\n  </thead>\n  <tbody>\n    <tr>\n      <th>0</th>\n      <td>40</td>\n      <td>140</td>\n      <td>289</td>\n      <td>0</td>\n      <td>172</td>\n      <td>False</td>\n      <td>0.0</td>\n      <td>1</td>\n      <td>1</td>\n      <td>0</td>\n      <td>0</td>\n      <td>1</td>\n      <td>0</td>\n      <td>0</td>\n      <td>1</td>\n      <td>0</td>\n    </tr>\n    <tr>\n      <th>1</th>\n      <td>49</td>\n      <td>160</td>\n      <td>180</td>\n      <td>0</td>\n      <td>156</td>\n      <td>False</td>\n      <td>1.0</td>\n      <td>0</td>\n      <td>0</td>\n      <td>1</td>\n      <td>0</td>\n      <td>1</td>\n      <td>0</td>\n      <td>1</td>\n      <td>0</td>\n      <td>1</td>\n    </tr>\n    <tr>\n      <th>2</th>\n      <td>37</td>\n      <td>130</td>\n      <td>283</td>\n      <td>0</td>\n      <td>98</td>\n      <td>False</td>\n      <td>0.0</td>\n      <td>1</td>\n      <td>1</td>\n      <td>0</td>\n      <td>0</td>\n      <td>0</td>\n      <td>1</td>\n      <td>0</td>\n      <td>1</td>\n      <td>0</td>\n    </tr>\n    <tr>\n      <th>3</th>\n      <td>48</td>\n      <td>138</td>\n      <td>214</td>\n      <td>0</td>\n      <td>108</td>\n      <td>True</td>\n      <td>1.5</td>\n      <td>0</td>\n      <td>0</td>\n      <td>0</td>\n      <td>0</td>\n      <td>1</td>\n      <td>0</td>\n      <td>1</td>\n      <td>0</td>\n      <td>1</td>\n    </tr>\n    <tr>\n      <th>4</th>\n      <td>54</td>\n      <td>150</td>\n      <td>195</td>\n      <td>0</td>\n      <td>122</td>\n      <td>False</td>\n      <td>0.0</td>\n      <td>1</td>\n      <td>0</td>\n      <td>1</td>\n      <td>0</td>\n      <td>1</td>\n      <td>0</td>\n      <td>0</td>\n      <td>1</td>\n      <td>0</td>\n    </tr>\n  </tbody>\n</table>\n</div>"
     },
     "metadata": {}
    }
   ]
  },
  {
   "cell_type": "code",
   "metadata": {
    "cell_id": "8ec4f3bd76994f78ac96cb8dc4d3985c",
    "tags": [],
    "deepnote_to_be_reexecuted": false,
    "source_hash": "e081044",
    "execution_start": 1649904195067,
    "execution_millis": 241,
    "deepnote_cell_type": "code",
    "deepnote_cell_height": 431.09375,
    "deepnote_output_heights": [
     21.1875,
     263.96875
    ]
   },
   "source": "df1 = df[df['Cholesterol']>0]\nsns.boxplot(x='HeartDisease', y='Cholesterol', data=df1)",
   "execution_count": null,
   "outputs": [
    {
     "output_type": "execute_result",
     "execution_count": 8,
     "data": {
      "text/plain": "<AxesSubplot:xlabel='HeartDisease', ylabel='Cholesterol'>"
     },
     "metadata": {}
    },
    {
     "data": {
      "text/plain": "<Figure size 432x288 with 1 Axes>",
      "image/png": "[encoded data removed]"
     },
     "metadata": {
      "needs_background": "light",
      "image/png": {
       "width": 389,
       "height": 262
      }
     },
     "output_type": "display_data"
    }
   ]
  },
  {
   "cell_type": "markdown",
   "source": "We can create a series of bool values by evaluating a column with an expression ",
   "metadata": {
    "cell_id": "6291109579c744d6ae3842c0cec8fdb3",
    "tags": [],
    "deepnote_cell_type": "markdown",
    "deepnote_cell_height": 52.359375
   }
  },
  {
   "cell_type": "markdown",
   "source": "## Linear Regression\n\nBefore creating a more complex model than linear regression, it really helps to have knowledge of how the scikit-learn estimator API works. This will not only make more complex models will be easier to understand, but also show you some common mistakes like assuming your data doesn't have missing values.\n\nimporting libraries:\n```\n%matplotlib inline\nimport matplotlib.pyplot as plt\nimport pandas as pd\nfrom sklearn.model_selection import train_test_split\nfrom sklearn.linear_model import LinearRegression\n```\n\n1. Fill or remove missing values\n##### 2. Arrange Data into **Features Matrix** and **Target Vector**\n- Convert Pandas dataframe into numpy arrays\n\n",
   "metadata": {
    "cell_id": "2138cf45b0ca464c9f3ad938ad99f688",
    "tags": [],
    "deepnote_cell_type": "markdown",
    "deepnote_cell_height": 439.28125
   }
  },
  {
   "cell_type": "code",
   "metadata": {
    "cell_id": "6ee947fda2544491a22ebaa8ec6c6680",
    "tags": [],
    "deepnote_to_be_reexecuted": false,
    "source_hash": "9a00a8c6",
    "execution_start": 1649904256508,
    "execution_millis": 3,
    "deepnote_cell_type": "code",
    "deepnote_cell_height": 134.953125
   },
   "source": "features = list(df1.columns)[:-1]\nX  = df1.loc[:, features].values #full 11 features, X capital because is a matrix\nX1 = df1.loc[df1['HeartDisease']==1,['Cholesterol']].values # only feature for linear regression\ny  = df1.loc[:,'HeartDisease'].values",
   "execution_count": null,
   "outputs": []
  },
  {
   "cell_type": "markdown",
   "source": "##### 3. import the model you want to use and create an instance #every model it's treated like an object oriented programing\n- if you want to see what you can tune for a model, you can use the help function `help(LinearRegression)`\n",
   "metadata": {
    "cell_id": "114ae0916bf841b1811023bd6d4df324",
    "tags": [],
    "deepnote_cell_type": "markdown",
    "deepnote_cell_height": 126.328125
   }
  },
  {
   "cell_type": "code",
   "metadata": {
    "cell_id": "a81a4816455a47e4a5b1fad4c24fac45",
    "tags": [],
    "deepnote_to_be_reexecuted": false,
    "source_hash": "e47f0c3e",
    "execution_start": 1649904202036,
    "execution_millis": 4,
    "deepnote_cell_type": "code",
    "deepnote_cell_height": 80.953125
   },
   "source": "reg = LinearRegression(fit_intercept=True, normalize=False)",
   "execution_count": null,
   "outputs": []
  },
  {
   "cell_type": "markdown",
   "source": "##### 4. Training the model on the data, Model is learning the relationship between x and y `reg.fit(X,y)`\n",
   "metadata": {
    "cell_id": "c2ee729330794221869b9675740e94b3",
    "tags": [],
    "deepnote_cell_type": "markdown",
    "deepnote_cell_height": 53.953125
   }
  },
  {
   "cell_type": "code",
   "metadata": {
    "cell_id": "675bfb98351642779c8881b00aacf387",
    "tags": [],
    "deepnote_to_be_reexecuted": false,
    "source_hash": "64695a2c",
    "execution_start": 1649904259568,
    "execution_millis": 17,
    "deepnote_cell_type": "code",
    "deepnote_cell_height": 187.046875,
    "deepnote_output_heights": [
     null,
     21.1875
    ]
   },
   "source": "reg.fit(X,y)",
   "execution_count": null,
   "outputs": [
    {
     "name": "stderr",
     "text": "/shared-libs/python3.7/py/lib/python3.7/site-packages/sklearn/linear_model/_base.py:155: FutureWarning: 'normalize' was deprecated in version 1.0 and will be removed in 1.2. Please leave the normalize parameter to its default value to silence this warning. The default behavior of this estimator is to not do any normalization. If normalization is needed please use sklearn.preprocessing.StandardScaler instead.\n  FutureWarning,\n",
     "output_type": "stream"
    },
    {
     "output_type": "execute_result",
     "execution_count": 14,
     "data": {
      "text/plain": "LinearRegression(normalize=False)"
     },
     "metadata": {}
    }
   ]
  },
  {
   "cell_type": "markdown",
   "source": "##### 5. Predict the values of new data. Uses the information the model learned during the model training process\n- Predict for one observation, input needs to be two dimensional `reg.predict(X[0].reshape(1,-1))`\n- Predict for multiple observations at once, `reg.predict(X[0:10])`",
   "metadata": {
    "cell_id": "46b4951eed81401ca0c48e89b7ca6e9d",
    "tags": [],
    "deepnote_cell_type": "markdown",
    "deepnote_cell_height": 127.734375
   }
  },
  {
   "cell_type": "markdown",
   "source": "",
   "metadata": {
    "cell_id": "7254face0495499f9b6c5c91d164a08e",
    "tags": [],
    "deepnote_cell_type": "markdown",
    "deepnote_cell_height": 45.953125
   }
  },
  {
   "cell_type": "code",
   "metadata": {
    "cell_id": "e5367783ee4940f1a7838b5bfa6961fb",
    "tags": [],
    "deepnote_to_be_reexecuted": false,
    "source_hash": "17d9604c",
    "execution_start": 1649904271166,
    "execution_millis": 10,
    "deepnote_cell_type": "code",
    "deepnote_cell_height": 118.125,
    "deepnote_output_heights": [
     21.1875
    ]
   },
   "source": "reg.predict(X[225].reshape(1,-1)) # Input needs to be two dimensional (reshape makes input two dimensional )",
   "execution_count": null,
   "outputs": [
    {
     "output_type": "execute_result",
     "execution_count": 16,
     "data": {
      "text/plain": "array([0.70813842])"
     },
     "metadata": {}
    }
   ]
  },
  {
   "cell_type": "markdown",
   "source": "##### Measuring model performance:\n\nUnlike classification models where a common metric is accuracy, regression models use other metrics like $r^2$, the coefficient of determination to quantify your model's performance. The best possible score is 1.0. A constant model that never predicts the expected value of y, disregarding the input features, would get a $r^2$ score of 0.0.",
   "metadata": {
    "cell_id": "8a7475e552bb4b58b5c513e7602b4332",
    "tags": [],
    "deepnote_cell_type": "markdown",
    "deepnote_cell_height": 133.140625
   }
  },
  {
   "cell_type": "code",
   "metadata": {
    "cell_id": "8fad17452f35486697df509d43382dfd",
    "tags": [],
    "deepnote_to_be_reexecuted": false,
    "source_hash": "7fcbab59",
    "execution_start": 1649904278947,
    "execution_millis": 8,
    "deepnote_cell_type": "code",
    "deepnote_cell_height": 129.125
   },
   "source": "score = reg.score(X, y)\nprint(score) #pretty bad score",
   "execution_count": null,
   "outputs": [
    {
     "name": "stdout",
     "text": "0.5810543810606663\n",
     "output_type": "stream"
    }
   ]
  },
  {
   "cell_type": "markdown",
   "source": "After you fit an instance of a model in scikit-learn, you can use additional attributes:",
   "metadata": {
    "cell_id": "6cd89c2fbbdd428fb9302e8ec4bbcace",
    "tags": [],
    "deepnote_to_be_reexecuted": false,
    "source_hash": "b623e53d",
    "execution_start": 1649892930214,
    "execution_millis": 69,
    "deepnote_cell_type": "markdown",
    "deepnote_cell_height": 52.359375
   }
  },
  {
   "cell_type": "code",
   "metadata": {
    "cell_id": "879748effae9467c8d166386205bd9e2",
    "tags": [],
    "deepnote_to_be_reexecuted": false,
    "source_hash": "1583975c",
    "execution_start": 1649904288803,
    "execution_millis": 525,
    "deepnote_cell_type": "code",
    "deepnote_cell_height": 147.125
   },
   "source": "m = reg.coef_[0] # slope of the line\nb = reg.intercept_ # intersection point with the Y axis\nprint(f'formula: y = {m:.2f}x + {b}')",
   "execution_count": null,
   "outputs": [
    {
     "name": "stdout",
     "text": "formula: y = 0.00x + 0.04604865549829423\n",
     "output_type": "stream"
    }
   ]
  },
  {
   "cell_type": "code",
   "metadata": {
    "cell_id": "1df52aa00e5c48beb9e302ac32f5cdda",
    "tags": [],
    "deepnote_to_be_reexecuted": true,
    "source_hash": "b623e53d",
    "deepnote_cell_type": "code",
    "deepnote_cell_height": 80.953125
   },
   "source": "",
   "execution_count": null,
   "outputs": []
  },
  {
   "cell_type": "markdown",
   "source": "<a style='text-decoration:none;line-height:16px;display:flex;color:#5B5B62;padding:10px;justify-content:end;' href='https://deepnote.com?utm_source=created-in-deepnote-cell&projectId=1e370e8e-dbeb-4c83-b321-fe23667b91ee' target=\"_blank\">\n<img alt='Created in deepnote.com' style='display:inline;max-height:16px;margin:0px;margin-right:7.5px;' src='data:image/svg+xml;base64,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' > </img>\nCreated in <span style='font-weight:600;margin-left:4px;'>Deepnote</span></a>",
   "metadata": {
    "tags": [],
    "created_in_deepnote_cell": true,
    "deepnote_cell_type": "markdown"
   }
  }
 ],
 "nbformat": 4,
 "nbformat_minor": 2,
 "metadata": {
  "orig_nbformat": 2,
  "deepnote": {
   "is_reactive": false
  },
  "deepnote_notebook_id": "4e07dc20-f165-4e10-8c69-7bb358a57fc7",
  "deepnote_execution_queue": []
 }
}