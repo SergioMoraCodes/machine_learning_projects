{
 "cells": [
  {
   "cell_type": "markdown",
   "source": "# How to make a statistical analysis\n\n### - Data exploration\nImporting the data:\n- Formats: csv, json, xlsx.\n- Sources  : Local, Internet.\n- `pd.read_csv(path)`\n1. Explore and identify the type of data to determine which statistical methods to apply\n    - the data attributes can be categorical/**cualitative** or numerical/**cuantitative**, depending of the type of variable we can apply different methods.\n        - Categorical data : **Object** , **Bool**\n        - Numerical data   : **int64**(Discret), **Float64**(Continue)\n        - `df.describe(include='all')` Makes an basic statistical analýsis of every attribute\n2. Cleaning the data\n    - after exploring the data we should be aware of Null values or errors, which will affect the analysis results.\n    - we need to decide how to proceed depending in the amount of Null or error values\n    - we can remove or fill in the missing data. ",
   "metadata": {
    "cell_id": "dc34b21532f04473bf8d44cff7c91a57",
    "tags": [],
    "owner_user_id": "3bc35f6e-3bb3-4aa9-bdbd-f6d7a1faca9f",
    "deepnote_cell_type": "markdown",
    "deepnote_cell_height": 542.46875
   }
  },
  {
   "cell_type": "markdown",
   "source": "[Dataset](https://www.kaggle.com/datasets/fedesoriano/heart-failure-prediction)",
   "metadata": {
    "cell_id": "4c4f6c4c8e01436299e6704e4280b287",
    "tags": [],
    "deepnote_cell_type": "markdown",
    "deepnote_cell_height": 66
   }
  },
  {
   "cell_type": "code",
   "metadata": {
    "tags": [],
    "cell_id": "a207d5a3-0894-4058-98ea-110bd84c0864",
    "deepnote_to_be_reexecuted": false,
    "source_hash": "7f3bd51c",
    "execution_start": 1649719713089,
    "execution_millis": 0,
    "deepnote_cell_type": "code",
    "deepnote_cell_height": 135
   },
   "source": "import pandas as pd\nimport numpy as np\n\ndf = pd.read_csv('/work/heart.csv')",
   "execution_count": null,
   "outputs": []
  },
  {
   "cell_type": "markdown",
   "source": "### 1. Data exploration\n\n- it's important to examine the data so we can define the data types, validation, data cleaning\n- the first **data exploration** its done using the following methods:\n    - `df.shape` to determine the number of attributes and observations\n    - `df.head()` & `df.tail()` to show the first and last obsevations of the dataframe\n    - `df.sample()` to show n number of random observations\n    - `df.dtypes` to specify the **data type** of each column \n    - `df.info()` determines the number of **null values** for each attribute\n    - `df.describe()` to recieve a **basic analysis** of the data that includes, mean, std deviation, quartiles and values counts for categorical variables.\n    - We can explore or change the columns names with the method:  `df.columns`\n    ",
   "metadata": {
    "cell_id": "75887ea4bb5b4cde81ae25a85a6b2f0b",
    "tags": [],
    "deepnote_cell_type": "markdown",
    "deepnote_cell_height": 339.90625
   }
  },
  {
   "cell_type": "markdown",
   "source": "### 2. Cleaning the data\n#### What to do with missing values\n- **Verificar** con la persona que recopiló los datos si se puede encontrar el valor faltante\n- **Eliminar** los datos donde se encuentra el valor perdido, elimando toda la fila. Solamente se hace cuando son pocas las filas con datos perdidos (no es ideal eliminar datos)\n    - con el método `dropna` podemos eliminar los datos, usando los argumentos `axis=0` para eliminar filas y  `axis=1` para eliminar columnas: `df.dropna(axis= 0)`\n    - Podemos escoger una columna para buscar los na pasando el argumento `df.dropna(subset=['column_name'], axis=0)`\n    - Estos métodos no alteran el dataframe original sino que crean un copia, si deseamos alterar el df debemos pasar el argumento `inplace = True` al final de la función `df.dropna(subset=['column_name'], axis=0, inplace=True)`\n- **Reemplazar** los datos, se puede hacer calculando el valor promedio de la variable completa.\n    - se utiliza el método `replace(old_data, new_data)` --> `df['columna3'].replace(np.nan, new_value)`\n    - `df['column'].fillna(0)` Fill `None` with a number \n    - `df['column'].fillna(method= 'bfill')` Fill `None` with the next index value\n    - `df['column'].fillna(method= 'ffill')` Fill `None` with the previous index value\n    - `df['column'].fillna(method= 'linear')` Fill `None` with a linear interpolation model\n\n\n\n- **Dejar** los datos faltantes como datos perdidos.",
   "metadata": {
    "cell_id": "bd5e9cc9733f4953891b8ad4bb2893df",
    "tags": [],
    "deepnote_cell_type": "markdown",
    "deepnote_cell_height": 585.640625
   }
  },
  {
   "cell_type": "code",
   "metadata": {
    "cell_id": "12a2200e1ecc40c49863537a09623625",
    "tags": [],
    "deepnote_to_be_reexecuted": false,
    "source_hash": "89ed5a1d",
    "execution_start": 1649719713136,
    "execution_millis": 5,
    "deepnote_cell_type": "code",
    "deepnote_cell_height": 189
   },
   "source": "df.rename({'FastingBS':'Diabetes'}, inplace=True)\ndf['ExerciseAngina'].replace(['Y','N'],[1,0], inplace=True) \ndf = df.astype({'ExerciseAngina':'bool'}, copy=False) \ndf['RestingBP'].replace(0, 95, inplace=True) \n\n# replacing 0 values in cholesterol with a normal random distribution from 244 mean and 59 std deviation\ndf.loc[df['Cholesterol'] == 0 ,'Cholesterol'] = np.random.normal(244,59, len(df.loc[df['Cholesterol'] == 0]))",
   "execution_count": null,
   "outputs": []
  },
  {
   "cell_type": "markdown",
   "source": "#### Medidas de Tendencia Central\n\nNos dan una noción de donde están los datos usamos el promedio y la mediana principalmente\n\n#### Medidas de dispersión\n\nCon respecto a la medida central nos dice que tan dispersos están los datos",
   "metadata": {
    "cell_id": "f9a111d02086470fa1e4f52cfb540b2c",
    "tags": [],
    "deepnote_cell_type": "markdown",
    "deepnote_cell_height": 166.78125
   }
  },
  {
   "cell_type": "markdown",
   "source": "##### Cambiar variables categóricas a numéricas\n- La mayoría de algoritmos de machine learning no aceptan cadenas de carácteres como enradas, debemos cambiar las variables categoricas a cualitativas numéricas, porque no se comportan como numeros si no solamente para generar una categoría basada en numeros\n- Se utilizar el método `pd.get_dummies(df, columns = ['sex'], drop_first= True)`\n- éste método crea tantas nuevas columnas como categorías en el atributo\n- en este ejemplo crearía las columas `sex_F` y `sex_M`\n\n#### Realizando un diagrama de frecuencias en un atributo continuo\n- debemos agrupar los datos en rangos de datos\n    - Encontrar el rango máximo de datos (max - min)\n    - Encontrar la cantidad de intervalos o grupos (valor entero): $1+3.22*Log(n)$ `n: numero de datos`\n    - Encontrar la amplitud de los intervalos: $\\dfrac{range}{groups}$\n    - podemos usar `df['columna'].plot.hist(bins= groups)`\n\n##### Agrupando datos con pandas\n- podemos agrupar conjuntos de datos numéricos con una categoría si esto facilita los análisis, por ejemplo rangos de edad.\n- utilizamos el método `pd.cut`\n- primero creamos una variable bins con una lista de los rangos `bins = [0,5,12,24,40,60,100]`\n- `names = ['1','2','3','4','5','6']` variable con el nombre de etiqueta de los nuevos rangos\n- `df['Edad'] = pd.cut(df['Edad'], bins, labels= names)`",
   "metadata": {
    "cell_id": "0f098de65d0346ca991e49ca2f57f0b0",
    "tags": [],
    "deepnote_cell_type": "markdown",
    "deepnote_cell_height": 610.921875
   }
  },
  {
   "cell_type": "code",
   "metadata": {
    "cell_id": "62cd5ca69dbc4f35887335362c720abd",
    "tags": [],
    "deepnote_to_be_reexecuted": false,
    "source_hash": "3acc7bf4",
    "execution_start": 1649720159442,
    "execution_millis": 7,
    "deepnote_table_state": {
     "pageSize": 10,
     "pageIndex": 0,
     "filters": [],
     "sortBy": []
    },
    "deepnote_table_loading": false,
    "deepnote_table_invalid": false,
    "deepnote_cell_type": "code",
    "deepnote_cell_height": 708,
    "deepnote_output_heights": [
     611
    ]
   },
   "source": "df['Oldpeak'].value_counts()",
   "execution_count": null,
   "outputs": [
    {
     "output_type": "execute_result",
     "execution_count": 15,
     "data": {
      "text/plain": " 0.0    368\n 1.0     86\n 2.0     76\n 1.5     53\n 3.0     28\n 1.2     26\n 0.2     22\n 0.5     19\n 1.4     18\n 1.8     17\n 2.5     16\n 0.8     16\n 1.6     16\n 0.1     14\n 0.6     14\n 0.4     11\n 0.3     11\n 4.0      8\n 0.7      7\n 2.8      7\n 1.3      7\n 2.6      7\n 1.1      7\n 1.9      7\n 1.7      6\n 2.2      5\n 0.9      4\n 3.6      4\n 2.4      4\n 3.4      3\n 2.1      2\n-0.1      2\n 4.2      2\n 3.2      2\n 3.5      2\n-0.5      2\n 2.3      2\n-1.0      2\n 2.9      1\n 3.8      1\n-0.9      1\n-2.6      1\n-1.5      1\n 3.7      1\n 5.0      1\n-2.0      1\n-0.8      1\n 3.1      1\n 4.4      1\n 5.6      1\n 6.2      1\n-0.7      1\n-1.1      1\nName: Oldpeak, dtype: int64"
     },
     "metadata": {}
    }
   ]
  },
  {
   "cell_type": "code",
   "metadata": {
    "cell_id": "8ec4f3bd76994f78ac96cb8dc4d3985c",
    "tags": [],
    "deepnote_to_be_reexecuted": false,
    "source_hash": "456ef59",
    "execution_start": 1649719713275,
    "execution_millis": 7,
    "deepnote_cell_type": "code",
    "deepnote_cell_height": 118.1875,
    "deepnote_output_heights": [
     21.1875
    ]
   },
   "source": "df.loc[df['Cholesterol']> 0,'Cholesterol'].std()",
   "execution_count": null,
   "outputs": [
    {
     "output_type": "execute_result",
     "execution_count": 5,
     "data": {
      "text/plain": "59.399978819398775"
     },
     "metadata": {}
    }
   ]
  },
  {
   "cell_type": "code",
   "metadata": {
    "cell_id": "e0e87af987ec497eb4ad0e06bb0c1406",
    "tags": [],
    "deepnote_to_be_reexecuted": false,
    "source_hash": "b623e53d",
    "execution_start": 1649719713328,
    "execution_millis": 118464,
    "deepnote_table_state": {
     "pageSize": 10,
     "pageIndex": 0,
     "filters": [],
     "sortBy": [
      {
       "id": "Cholesterol",
       "type": "asc"
      }
     ]
    },
    "deepnote_table_loading": false,
    "deepnote_cell_type": "code",
    "deepnote_cell_height": 81
   },
   "source": "",
   "execution_count": null,
   "outputs": []
  },
  {
   "cell_type": "code",
   "metadata": {
    "cell_id": "ef86058e46b341e1906ea06a47c4b96c",
    "tags": [],
    "deepnote_to_be_reexecuted": false,
    "source_hash": "25f0785a",
    "execution_start": 1649719713328,
    "execution_millis": 0,
    "deepnote_cell_type": "code",
    "deepnote_cell_height": 118.1875,
    "deepnote_output_heights": [
     21.1875
    ]
   },
   "source": "df['Cholesterol'].mean()",
   "execution_count": null,
   "outputs": [
    {
     "output_type": "execute_result",
     "execution_count": 7,
     "data": {
      "text/plain": "243.94484506546493"
     },
     "metadata": {}
    }
   ]
  },
  {
   "cell_type": "code",
   "metadata": {
    "cell_id": "c9d3f7d006154504ad554128adaeeb37",
    "tags": [],
    "deepnote_to_be_reexecuted": false,
    "source_hash": "6b47e455",
    "execution_start": 1649719713329,
    "execution_millis": 3167,
    "deepnote_cell_type": "code",
    "deepnote_cell_height": 428.1875,
    "deepnote_output_heights": [
     21.1875,
     261
    ]
   },
   "source": "import seaborn as sns\ndf['ChestPainType'].value_counts().plot.bar()",
   "execution_count": null,
   "outputs": [
    {
     "output_type": "execute_result",
     "execution_count": 8,
     "data": {
      "text/plain": "<AxesSubplot:>"
     },
     "metadata": {}
    },
    {
     "data": {
      "text/plain": "<Figure size 432x288 with 1 Axes>",
      "image/png": "[encoded data removed]"
     },
     "metadata": {
      "needs_background": "light",
      "image/png": {
       "width": 375,
       "height": 259
      }
     },
     "output_type": "display_data"
    }
   ]
  },
  {
   "cell_type": "code",
   "metadata": {
    "cell_id": "949708d836044c9795b1dfc5b2c9a28b",
    "tags": [],
    "deepnote_to_be_reexecuted": false,
    "source_hash": "2ff0cdbe",
    "execution_start": 1649719716163,
    "execution_millis": 1012,
    "deepnote_cell_type": "code",
    "deepnote_cell_height": 503.1875,
    "deepnote_output_heights": [
     21.1875,
     354
    ]
   },
   "source": "sns.displot(df, x= 'Cholesterol', hue= 'ChestPainType', multiple='stack')",
   "execution_count": null,
   "outputs": [
    {
     "output_type": "execute_result",
     "execution_count": 9,
     "data": {
      "text/plain": "<seaborn.axisgrid.FacetGrid at 0x7f4ecb39df50>"
     },
     "metadata": {}
    },
    {
     "data": {
      "text/plain": "<Figure size 440.125x360 with 1 Axes>",
      "image/png": "[encoded data removed]"
     },
     "metadata": {
      "needs_background": "light",
      "image/png": {
       "width": 438,
       "height": 352
      }
     },
     "output_type": "display_data"
    }
   ]
  },
  {
   "cell_type": "code",
   "metadata": {
    "cell_id": "1b4339d196804dff8d11dce72b5528fc",
    "tags": [],
    "deepnote_to_be_reexecuted": false,
    "source_hash": "234d9d8d",
    "execution_start": 1649719717179,
    "execution_millis": 4,
    "deepnote_cell_type": "code",
    "deepnote_cell_height": 135
   },
   "source": "# bins = [x for x in range(28,79,5)]\n# labels = [x for x in range(1,11)]\n# df['Age'] = pd.cut(df['Age'], bins, labels= labels)\n# df['Age']",
   "execution_count": null,
   "outputs": []
  },
  {
   "cell_type": "markdown",
   "source": "We can create a series of bool values by evaluating a column with an expression ",
   "metadata": {
    "cell_id": "6291109579c744d6ae3842c0cec8fdb3",
    "tags": [],
    "deepnote_cell_type": "markdown",
    "deepnote_cell_height": 52.390625
   }
  },
  {
   "cell_type": "code",
   "metadata": {
    "cell_id": "b960421b090e4553b6147eec298b4039",
    "tags": [],
    "deepnote_to_be_reexecuted": false,
    "source_hash": "8ba06a11",
    "execution_start": 1649719717197,
    "execution_millis": 0,
    "deepnote_cell_type": "code",
    "deepnote_cell_height": 117
   },
   "source": "\ndisease = df['HeartDisease'] == 1\nnot_disease = df['HeartDisease'] == 0",
   "execution_count": null,
   "outputs": []
  },
  {
   "cell_type": "code",
   "metadata": {
    "cell_id": "ee9bd7918d8840bda30a7c3cf41607f3",
    "tags": [],
    "deepnote_to_be_reexecuted": false,
    "source_hash": "39e9a764",
    "execution_start": 1649719717210,
    "execution_millis": 66,
    "deepnote_cell_type": "code",
    "deepnote_cell_height": 571
   },
   "source": "df_disease = df[disease]\n# df_disease = df[df['HeartDisease] == 1]\ndf_disease.describe()",
   "execution_count": null,
   "outputs": [
    {
     "output_type": "execute_result",
     "execution_count": 12,
     "data": {
      "application/vnd.deepnote.dataframe.v3+json": {
       "column_count": 7,
       "row_count": 8,
       "columns": [
        {
         "name": "Age",
         "dtype": "float64",
         "stats": {
          "unique_count": 8,
          "nan_count": 0,
          "min": "8.727055566369488",
          "max": "508.0",
          "histogram": [
           {
            "bin_start": 8.727055566369488,
            "bin_end": 58.65435000973254,
            "count": 5
           },
           {
            "bin_start": 58.65435000973254,
            "bin_end": 108.58164445309559,
            "count": 2
           },
           {
            "bin_start": 108.58164445309559,
            "bin_end": 158.50893889645866,
            "count": 0
           },
           {
            "bin_start": 158.50893889645866,
            "bin_end": 208.4362333398217,
            "count": 0
           },
           {
            "bin_start": 208.4362333398217,
            "bin_end": 258.36352778318474,
            "count": 0
           },
           {
            "bin_start": 258.36352778318474,
            "bin_end": 308.2908222265478,
            "count": 0
           },
           {
            "bin_start": 308.2908222265478,
            "bin_end": 358.21811666991084,
            "count": 0
           },
           {
            "bin_start": 358.21811666991084,
            "bin_end": 408.1454111132739,
            "count": 0
           },
           {
            "bin_start": 408.1454111132739,
            "bin_end": 458.07270555663695,
            "count": 0
           },
           {
            "bin_start": 458.07270555663695,
            "bin_end": 508,
            "count": 1
           }
          ]
         }
        },
        {
         "name": "RestingBP",
         "dtype": "float64",
         "stats": {
          "unique_count": 8,
          "nan_count": 0,
          "min": "18.990949940088697",
          "max": "508.0",
          "histogram": [
           {
            "bin_start": 18.990949940088697,
            "bin_end": 67.89185494607983,
            "count": 1
           },
           {
            "bin_start": 67.89185494607983,
            "bin_end": 116.79275995207097,
            "count": 1
           },
           {
            "bin_start": 116.79275995207097,
            "bin_end": 165.69366495806207,
            "count": 4
           },
           {
            "bin_start": 165.69366495806207,
            "bin_end": 214.59456996405322,
            "count": 1
           },
           {
            "bin_start": 214.59456996405322,
            "bin_end": 263.49547497004437,
            "count": 0
           },
           {
            "bin_start": 263.49547497004437,
            "bin_end": 312.39637997603546,
            "count": 0
           },
           {
            "bin_start": 312.39637997603546,
            "bin_end": 361.2972849820266,
            "count": 0
           },
           {
            "bin_start": 361.2972849820266,
            "bin_end": 410.19818998801776,
            "count": 0
           },
           {
            "bin_start": 410.19818998801776,
            "bin_end": 459.0990949940089,
            "count": 0
           },
           {
            "bin_start": 459.0990949940089,
            "bin_end": 508,
            "count": 1
           }
          ]
         }
        },
        {
         "name": "Cholesterol",
         "dtype": "float64",
         "stats": {
          "unique_count": 8,
          "nan_count": 0,
          "min": "58.71500305175044",
          "max": "603.0",
          "histogram": [
           {
            "bin_start": 58.71500305175044,
            "bin_end": 113.1435027465754,
            "count": 2
           },
           {
            "bin_start": 113.1435027465754,
            "bin_end": 167.57200244140034,
            "count": 0
           },
           {
            "bin_start": 167.57200244140034,
            "bin_end": 222.0005021362253,
            "count": 1
           },
           {
            "bin_start": 222.0005021362253,
            "bin_end": 276.42900183105024,
            "count": 2
           },
           {
            "bin_start": 276.42900183105024,
            "bin_end": 330.8575015258752,
            "count": 1
           },
           {
            "bin_start": 330.8575015258752,
            "bin_end": 385.28600122070014,
            "count": 0
           },
           {
            "bin_start": 385.28600122070014,
            "bin_end": 439.7145009155251,
            "count": 0
           },
           {
            "bin_start": 439.7145009155251,
            "bin_end": 494.14300061035004,
            "count": 0
           },
           {
            "bin_start": 494.14300061035004,
            "bin_end": 548.571500305175,
            "count": 1
           },
           {
            "bin_start": 548.571500305175,
            "bin_end": 603,
            "count": 1
           }
          ]
         }
        },
        {
         "name": "FastingBS",
         "dtype": "float64",
         "stats": {
          "unique_count": 5,
          "nan_count": 0,
          "min": "0.0",
          "max": "508.0",
          "histogram": [
           {
            "bin_start": 0,
            "bin_end": 50.8,
            "count": 7
           },
           {
            "bin_start": 50.8,
            "bin_end": 101.6,
            "count": 0
           },
           {
            "bin_start": 101.6,
            "bin_end": 152.39999999999998,
            "count": 0
           },
           {
            "bin_start": 152.39999999999998,
            "bin_end": 203.2,
            "count": 0
           },
           {
            "bin_start": 203.2,
            "bin_end": 254,
            "count": 0
           },
           {
            "bin_start": 254,
            "bin_end": 304.79999999999995,
            "count": 0
           },
           {
            "bin_start": 304.79999999999995,
            "bin_end": 355.59999999999997,
            "count": 0
           },
           {
            "bin_start": 355.59999999999997,
            "bin_end": 406.4,
            "count": 0
           },
           {
            "bin_start": 406.4,
            "bin_end": 457.2,
            "count": 0
           },
           {
            "bin_start": 457.2,
            "bin_end": 508,
            "count": 1
           }
          ]
         }
        },
        {
         "name": "MaxHR",
         "dtype": "float64",
         "stats": {
          "unique_count": 8,
          "nan_count": 0,
          "min": "23.38692273396304",
          "max": "508.0",
          "histogram": [
           {
            "bin_start": 23.38692273396304,
            "bin_end": 71.84823046056673,
            "count": 2
           },
           {
            "bin_start": 71.84823046056673,
            "bin_end": 120.30953818717043,
            "count": 1
           },
           {
            "bin_start": 120.30953818717043,
            "bin_end": 168.7708459137741,
            "count": 3
           },
           {
            "bin_start": 168.7708459137741,
            "bin_end": 217.23215364037782,
            "count": 1
           },
           {
            "bin_start": 217.23215364037782,
            "bin_end": 265.6934613669815,
            "count": 0
           },
           {
            "bin_start": 265.6934613669815,
            "bin_end": 314.1547690935852,
            "count": 0
           },
           {
            "bin_start": 314.1547690935852,
            "bin_end": 362.6160768201889,
            "count": 0
           },
           {
            "bin_start": 362.6160768201889,
            "bin_end": 411.0773845467926,
            "count": 0
           },
           {
            "bin_start": 411.0773845467926,
            "bin_end": 459.5386922733963,
            "count": 0
           },
           {
            "bin_start": 459.5386922733963,
            "bin_end": 508,
            "count": 1
           }
          ]
         }
        },
        {
         "name": "Oldpeak",
         "dtype": "float64",
         "stats": {
          "unique_count": 8,
          "nan_count": 0,
          "min": "-2.6",
          "max": "508.0",
          "histogram": [
           {
            "bin_start": -2.6,
            "bin_end": 48.46,
            "count": 7
           },
           {
            "bin_start": 48.46,
            "bin_end": 99.52000000000001,
            "count": 0
           },
           {
            "bin_start": 99.52000000000001,
            "bin_end": 150.58,
            "count": 0
           },
           {
            "bin_start": 150.58,
            "bin_end": 201.64000000000001,
            "count": 0
           },
           {
            "bin_start": 201.64000000000001,
            "bin_end": 252.70000000000002,
            "count": 0
           },
           {
            "bin_start": 252.70000000000002,
            "bin_end": 303.76,
            "count": 0
           },
           {
            "bin_start": 303.76,
            "bin_end": 354.82,
            "count": 0
           },
           {
            "bin_start": 354.82,
            "bin_end": 405.88,
            "count": 0
           },
           {
            "bin_start": 405.88,
            "bin_end": 456.94,
            "count": 0
           },
           {
            "bin_start": 456.94,
            "bin_end": 508,
            "count": 1
           }
          ]
         }
        },
        {
         "name": "HeartDisease",
         "dtype": "float64",
         "stats": {
          "unique_count": 3,
          "nan_count": 0,
          "min": "0.0",
          "max": "508.0",
          "histogram": [
           {
            "bin_start": 0,
            "bin_end": 50.8,
            "count": 7
           },
           {
            "bin_start": 50.8,
            "bin_end": 101.6,
            "count": 0
           },
           {
            "bin_start": 101.6,
            "bin_end": 152.39999999999998,
            "count": 0
           },
           {
            "bin_start": 152.39999999999998,
            "bin_end": 203.2,
            "count": 0
           },
           {
            "bin_start": 203.2,
            "bin_end": 254,
            "count": 0
           },
           {
            "bin_start": 254,
            "bin_end": 304.79999999999995,
            "count": 0
           },
           {
            "bin_start": 304.79999999999995,
            "bin_end": 355.59999999999997,
            "count": 0
           },
           {
            "bin_start": 355.59999999999997,
            "bin_end": 406.4,
            "count": 0
           },
           {
            "bin_start": 406.4,
            "bin_end": 457.2,
            "count": 0
           },
           {
            "bin_start": 457.2,
            "bin_end": 508,
            "count": 1
           }
          ]
         }
        },
        {
         "name": "_deepnote_index_column",
         "dtype": "object"
        }
       ],
       "rows": [
        {
         "Age": 31,
         "RestingBP": 92,
         "Cholesterol": 58.71500305175044,
         "FastingBS": 0,
         "MaxHR": 60,
         "Oldpeak": -2.6,
         "HeartDisease": 1,
         "_deepnote_index_column": "min"
        },
        {
         "Age": 8.727055566369488,
         "RestingBP": 18.990949940088697,
         "Cholesterol": 62.24735973698074,
         "FastingBS": 0.4723315708915638,
         "MaxHR": 23.38692273396304,
         "Oldpeak": 1.1518719735587624,
         "HeartDisease": 0,
         "_deepnote_index_column": "std"
        },
        {
         "Age": 51,
         "RestingBP": 120,
         "Cholesterol": 211.51550497879015,
         "FastingBS": 0,
         "MaxHR": 112,
         "Oldpeak": 0,
         "HeartDisease": 1,
         "_deepnote_index_column": "25%"
        },
        {
         "Age": 57,
         "RestingBP": 132,
         "Cholesterol": 246,
         "FastingBS": 0,
         "MaxHR": 126,
         "Oldpeak": 1.2,
         "HeartDisease": 1,
         "_deepnote_index_column": "50%"
        },
        {
         "Age": 55.8996062992126,
         "RestingBP": 134.3720472440945,
         "Cholesterol": 248.31686858183397,
         "FastingBS": 0.3346456692913386,
         "MaxHR": 127.65551181102362,
         "Oldpeak": 1.2742125984251969,
         "HeartDisease": 1,
         "_deepnote_index_column": "mean"
        },
        {
         "Age": 62,
         "RestingBP": 145,
         "Cholesterol": 282.9454737150172,
         "FastingBS": 1,
         "MaxHR": 144.25,
         "Oldpeak": 2,
         "HeartDisease": 1,
         "_deepnote_index_column": "75%"
        },
        {
         "Age": 508,
         "RestingBP": 508,
         "Cholesterol": 508,
         "FastingBS": 508,
         "MaxHR": 508,
         "Oldpeak": 508,
         "HeartDisease": 508,
         "_deepnote_index_column": "count"
        },
        {
         "Age": 77,
         "RestingBP": 200,
         "Cholesterol": 603,
         "FastingBS": 1,
         "MaxHR": 195,
         "Oldpeak": 6.2,
         "HeartDisease": 1,
         "_deepnote_index_column": "max"
        }
       ]
      },
      "text/plain": "              Age   RestingBP  Cholesterol   FastingBS       MaxHR  \\\ncount  508.000000  508.000000   508.000000  508.000000  508.000000   \nmean    55.899606  134.372047   248.316869    0.334646  127.655512   \nstd      8.727056   18.990950    62.247360    0.472332   23.386923   \nmin     31.000000   92.000000    58.715003    0.000000   60.000000   \n25%     51.000000  120.000000   211.515505    0.000000  112.000000   \n50%     57.000000  132.000000   246.000000    0.000000  126.000000   \n75%     62.000000  145.000000   282.945474    1.000000  144.250000   \nmax     77.000000  200.000000   603.000000    1.000000  195.000000   \n\n          Oldpeak  HeartDisease  \ncount  508.000000         508.0  \nmean     1.274213           1.0  \nstd      1.151872           0.0  \nmin     -2.600000           1.0  \n25%      0.000000           1.0  \n50%      1.200000           1.0  \n75%      2.000000           1.0  \nmax      6.200000           1.0  ",
      "text/html": "<div>\n<style scoped>\n    .dataframe tbody tr th:only-of-type {\n        vertical-align: middle;\n    }\n\n    .dataframe tbody tr th {\n        vertical-align: top;\n    }\n\n    .dataframe thead th {\n        text-align: right;\n    }\n</style>\n<table border=\"1\" class=\"dataframe\">\n  <thead>\n    <tr style=\"text-align: right;\">\n      <th></th>\n      <th>Age</th>\n      <th>RestingBP</th>\n      <th>Cholesterol</th>\n      <th>FastingBS</th>\n      <th>MaxHR</th>\n      <th>Oldpeak</th>\n      <th>HeartDisease</th>\n    </tr>\n  </thead>\n  <tbody>\n    <tr>\n      <th>count</th>\n      <td>508.000000</td>\n      <td>508.000000</td>\n      <td>508.000000</td>\n      <td>508.000000</td>\n      <td>508.000000</td>\n      <td>508.000000</td>\n      <td>508.0</td>\n    </tr>\n    <tr>\n      <th>mean</th>\n      <td>55.899606</td>\n      <td>134.372047</td>\n      <td>248.316869</td>\n      <td>0.334646</td>\n      <td>127.655512</td>\n      <td>1.274213</td>\n      <td>1.0</td>\n    </tr>\n    <tr>\n      <th>std</th>\n      <td>8.727056</td>\n      <td>18.990950</td>\n      <td>62.247360</td>\n      <td>0.472332</td>\n      <td>23.386923</td>\n      <td>1.151872</td>\n      <td>0.0</td>\n    </tr>\n    <tr>\n      <th>min</th>\n      <td>31.000000</td>\n      <td>92.000000</td>\n      <td>58.715003</td>\n      <td>0.000000</td>\n      <td>60.000000</td>\n      <td>-2.600000</td>\n      <td>1.0</td>\n    </tr>\n    <tr>\n      <th>25%</th>\n      <td>51.000000</td>\n      <td>120.000000</td>\n      <td>211.515505</td>\n      <td>0.000000</td>\n      <td>112.000000</td>\n      <td>0.000000</td>\n      <td>1.0</td>\n    </tr>\n    <tr>\n      <th>50%</th>\n      <td>57.000000</td>\n      <td>132.000000</td>\n      <td>246.000000</td>\n      <td>0.000000</td>\n      <td>126.000000</td>\n      <td>1.200000</td>\n      <td>1.0</td>\n    </tr>\n    <tr>\n      <th>75%</th>\n      <td>62.000000</td>\n      <td>145.000000</td>\n      <td>282.945474</td>\n      <td>1.000000</td>\n      <td>144.250000</td>\n      <td>2.000000</td>\n      <td>1.0</td>\n    </tr>\n    <tr>\n      <th>max</th>\n      <td>77.000000</td>\n      <td>200.000000</td>\n      <td>603.000000</td>\n      <td>1.000000</td>\n      <td>195.000000</td>\n      <td>6.200000</td>\n      <td>1.0</td>\n    </tr>\n  </tbody>\n</table>\n</div>"
     },
     "metadata": {}
    }
   ]
  },
  {
   "cell_type": "code",
   "metadata": {
    "cell_id": "097354cbda7b425dab707b3005d378ca",
    "tags": [],
    "deepnote_to_be_reexecuted": false,
    "source_hash": "643bd544",
    "execution_start": 1649719717280,
    "execution_millis": 5,
    "deepnote_cell_type": "code",
    "deepnote_cell_height": 193.75,
    "deepnote_output_heights": [
     78.75
    ]
   },
   "source": "df_not_disease = df.loc[(df['HeartDisease'] == 1) & (df['Cholesterol'] <= 227), : ]\ndf_not_disease.index",
   "execution_count": null,
   "outputs": [
    {
     "output_type": "execute_result",
     "execution_count": 13,
     "data": {
      "text/plain": "Int64Index([  1,   3,   8,  11,  16,  32,  33,  44,  51,  57,\n            ...\n            897, 899, 901, 905, 907, 908, 909, 911, 914, 915],\n           dtype='int64', length=191)"
     },
     "metadata": {}
    }
   ]
  },
  {
   "cell_type": "code",
   "metadata": {
    "cell_id": "606e566c072b4025808e3e0c9432b77a",
    "tags": [],
    "deepnote_to_be_reexecuted": false,
    "source_hash": "a9fd7cdf",
    "execution_start": 1649719717331,
    "execution_millis": 209,
    "deepnote_cell_type": "code",
    "deepnote_cell_height": 144.1875
   },
   "source": "df.sort_values()",
   "execution_count": null,
   "outputs": [
    {
     "output_type": "error",
     "ename": "TypeError",
     "evalue": "sort_values() missing 1 required positional argument: 'by'",
     "traceback": [
      "\u001b[0;31m---------------------------------------------------------------------------\u001b[0m",
      "\u001b[0;31mTypeError\u001b[0m                                 Traceback (most recent call last)",
      "\u001b[0;32m<ipython-input-14-9baf0daa5fc6>\u001b[0m in \u001b[0;36m<module>\u001b[0;34m\u001b[0m\n\u001b[0;32m----> 1\u001b[0;31m \u001b[0mdf\u001b[0m\u001b[0;34m.\u001b[0m\u001b[0msort_values\u001b[0m\u001b[0;34m(\u001b[0m\u001b[0;34m)\u001b[0m\u001b[0;34m\u001b[0m\u001b[0;34m\u001b[0m\u001b[0m\n\u001b[0m",
      "\u001b[0;31mTypeError\u001b[0m: sort_values() missing 1 required positional argument: 'by'"
     ]
    }
   ]
  },
  {
   "cell_type": "markdown",
   "source": "<a style='text-decoration:none;line-height:16px;display:flex;color:#5B5B62;padding:10px;justify-content:end;' href='https://deepnote.com?utm_source=created-in-deepnote-cell&projectId=1e370e8e-dbeb-4c83-b321-fe23667b91ee' target=\"_blank\">\n<img alt='Created in deepnote.com' style='display:inline;max-height:16px;margin:0px;margin-right:7.5px;' src='data:image/svg+xml;base64,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' > </img>\nCreated in <span style='font-weight:600;margin-left:4px;'>Deepnote</span></a>",
   "metadata": {
    "tags": [],
    "created_in_deepnote_cell": true,
    "deepnote_cell_type": "markdown"
   }
  }
 ],
 "nbformat": 4,
 "nbformat_minor": 2,
 "metadata": {
  "orig_nbformat": 2,
  "deepnote": {
   "is_reactive": false
  },
  "deepnote_notebook_id": "4e07dc20-f165-4e10-8c69-7bb358a57fc7",
  "deepnote_execution_queue": []
 }
}