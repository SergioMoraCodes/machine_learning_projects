{
 "cells": [
  {
   "cell_type": "markdown",
   "id": "178ddf73",
   "metadata": {},
   "source": [
    "## Métodos de ensamble\n",
    "\n",
    "- Combinar diferentes métodos de ML con diferentes configuraciones y aplicar un método para lograr un consenso\n",
    "- la diversidad es un buena opción\n",
    "\n",
    "### Bagging\n",
    "\n",
    "- Combina los métodos en Paralelo\n",
    "- Viene de Bootstrap Aggregation\n",
    "- Creamos particiones aleatorias del conjunto de datos original \n",
    "- Random Forest, Voting Classifiers/Regressors \n",
    "\n",
    "### Boosting\n",
    "\n",
    "- Es un método Secuencial\n",
    "- busca fortalecer gradualmente el modelo usando el error residual de las etapas anteriores\n",
    "- Adaboost, Gradient Tree Boosting, XGBoost"
   ]
  },
  {
   "cell_type": "code",
   "execution_count": 1,
   "id": "6bde6dbb",
   "metadata": {},
   "outputs": [],
   "source": [
    "# Bagging\n",
    "import pandas as pd\n",
    "from sklearn.ensemble import BaggingClassifier\n",
    "from sklearn.neighbors import KNeighborsClassifier\n",
    "from sklearn.model_selection import train_test_split\n",
    "from sklearn.metrics import accuracy_score"
   ]
  },
  {
   "cell_type": "code",
   "execution_count": 3,
   "id": "3d9f6591",
   "metadata": {},
   "outputs": [],
   "source": [
    "df_heart = pd.read_csv('Data/heart.csv')"
   ]
  },
  {
   "cell_type": "code",
   "execution_count": 7,
   "id": "92f3db14",
   "metadata": {},
   "outputs": [],
   "source": [
    "X = df_heart.drop(['target'], axis = 1)\n",
    "y = df_heart['target']"
   ]
  },
  {
   "cell_type": "code",
   "execution_count": 8,
   "id": "9b15a5dc",
   "metadata": {},
   "outputs": [],
   "source": [
    "X_train, X_test, y_train, y_test = train_test_split(X, y, test_size=0.3, random_state=42)"
   ]
  },
  {
   "cell_type": "code",
   "execution_count": null,
   "id": "1c27bcc8",
   "metadata": {},
   "outputs": [],
   "source": []
  }
 ],
 "metadata": {
  "kernelspec": {
   "display_name": "Python 3",
   "language": "python",
   "name": "python3"
  },
  "language_info": {
   "codemirror_mode": {
    "name": "ipython",
    "version": 3
   },
   "file_extension": ".py",
   "mimetype": "text/x-python",
   "name": "python",
   "nbconvert_exporter": "python",
   "pygments_lexer": "ipython3",
   "version": "3.8.12"
  }
 },
 "nbformat": 4,
 "nbformat_minor": 5
}
