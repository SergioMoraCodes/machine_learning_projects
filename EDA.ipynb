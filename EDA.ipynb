{
 "cells": [
  {
   "cell_type": "markdown",
   "source": "## EDA : Exploratory Data Analysis",
   "metadata": {
    "tags": [],
    "cell_id": "23fc3451-12c1-4908-8595-adaa11ce7a2a",
    "deepnote_cell_type": "markdown",
    "deepnote_cell_height": 70
   }
  },
  {
   "cell_type": "code",
   "metadata": {
    "cell_id": "13eefa856fd04288a54de2718c169149",
    "tags": [],
    "deepnote_to_be_reexecuted": false,
    "source_hash": "5fb044bb",
    "execution_start": 1649770622729,
    "execution_millis": 299,
    "deepnote_cell_type": "code",
    "deepnote_cell_height": 225
   },
   "source": "zoo_data = 'https://archive.ics.uci.edu/ml/machine-learning-databases/zoo/zoo.data'\nzoo_name = ['animal','hair','feathers','eggs',\n            'milk','airborne','aquatic','predator',\n            'toothed','backbone','breathes','venomous',\n            'fins','legs','tail','domestic',' cat-size','type']\n\nimport pandas as pd\n\ndf = pd.read_csv(zoo_data, names= zoo_name)",
   "execution_count": null,
   "outputs": []
  },
  {
   "cell_type": "code",
   "metadata": {
    "cell_id": "0e659818c7af4fda824bf9896308a828",
    "tags": [],
    "deepnote_to_be_reexecuted": false,
    "source_hash": "89a10677",
    "execution_start": 1649771306225,
    "execution_millis": 412,
    "deepnote_cell_type": "code",
    "deepnote_cell_height": 99
   },
   "source": "import altair as alt\nimport plotly.express as px",
   "execution_count": null,
   "outputs": []
  },
  {
   "cell_type": "code",
   "metadata": {
    "cell_id": "055d127387e44d4188377bf4982d4c33",
    "tags": [],
    "deepnote_to_be_reexecuted": false,
    "source_hash": "42106c69",
    "execution_start": 1649772551744,
    "execution_millis": 18,
    "is_output_hidden": false,
    "deepnote_cell_type": "code",
    "deepnote_cell_height": 135
   },
   "source": "alt_graph = alt.Chart(df).mark_bar().encode(\n    x = 'animal',\n    y = 'legs'\n)",
   "execution_count": null,
   "outputs": []
  },
  {
   "cell_type": "code",
   "metadata": {
    "cell_id": "ace747efe6e44632bbc6490b949be2e5",
    "tags": [],
    "deepnote_to_be_reexecuted": false,
    "source_hash": "5586d202",
    "execution_start": 1649772549052,
    "execution_millis": 1,
    "deepnote_cell_type": "code",
    "deepnote_cell_height": 641
   },
   "source": "df_aquatic = df['aquatic'].replace([0,1],['No acuatico','Acuatico'])\naquatic_graph = px.pie(df_aquatic, names='aquatic')",
   "execution_count": null,
   "outputs": []
  },
  {
   "cell_type": "code",
   "metadata": {
    "cell_id": "fc7496146d33474e8097a6e47d99a8a7",
    "tags": [],
    "owner_user_id": "3bc35f6e-3bb3-4aa9-bdbd-f6d7a1faca9f",
    "deepnote_cell_type": "code",
    "deepnote_cell_height": 84
   },
   "source": "chicago_data = 'https://raw.githubusercontent.com/terranigmark/curso-analisis-exploratorio-datos-platzi/main/Traffic_Crashes1.csv'\ntoken_map = 'pk.eyJ1Ijoic2lyY2hlY2hvIiwiYSI6ImNsMXc4NnVvdzM5ZDQzY2p4b2J5cjhsbGUifQ.8S2VYEA6fYdJhYER2f3-eQ'",
   "execution_count": null,
   "outputs": []
  },
  {
   "cell_type": "markdown",
   "source": "<a style='text-decoration:none;line-height:16px;display:flex;color:#5B5B62;padding:10px;justify-content:end;' href='https://deepnote.com?utm_source=created-in-deepnote-cell&projectId=1e370e8e-dbeb-4c83-b321-fe23667b91ee' target=\"_blank\">\n<img alt='Created in deepnote.com' style='display:inline;max-height:16px;margin:0px;margin-right:7.5px;' src='data:image/svg+xml;base64,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' > </img>\nCreated in <span style='font-weight:600;margin-left:4px;'>Deepnote</span></a>",
   "metadata": {
    "tags": [],
    "created_in_deepnote_cell": true,
    "deepnote_cell_type": "markdown"
   }
  }
 ],
 "nbformat": 4,
 "nbformat_minor": 2,
 "metadata": {
  "orig_nbformat": 2,
  "deepnote": {
   "is_reactive": false
  },
  "deepnote_notebook_id": "d7d48609-d902-426e-aad8-d76f160441ba",
  "deepnote_execution_queue": []
 }
}