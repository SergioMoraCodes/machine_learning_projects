{
 "cells": [
  {
   "cell_type": "code",
   "execution_count": 2,
   "id": "425ff4ec-2a44-4f84-8c70-118491e9c8a1",
   "metadata": {},
   "outputs": [
    {
     "name": "stderr",
     "output_type": "stream",
     "text": [
      "C:\\Users\\sergi\\anaconda3\\lib\\site-packages\\scipy\\__init__.py:146: UserWarning: A NumPy version >=1.16.5 and <1.23.0 is required for this version of SciPy (detected version 1.23.1\n",
      "  warnings.warn(f\"A NumPy version >={np_minversion} and <{np_maxversion}\"\n"
     ]
    }
   ],
   "source": [
    "import numpy as np\n",
    "import matplotlib.pyplot as plt\n",
    "import scipy as sp"
   ]
  },
  {
   "cell_type": "markdown",
   "id": "6d67af93-87e7-475d-b71d-75246a6bdb77",
   "metadata": {},
   "source": [
    "### data types in numpy\n",
    "we can have scalars, vectors, matrix, and tensors\n",
    "\n",
    "scalars is adimensional, is a plain number like `(42)`\n",
    "\n",
    "vector is unidimensional, is a list of numbers liker `([1, 78, 98, 2, 6])`\n",
    "\n",
    "matrix is bidimensional, like a table with columns and rows `([[2, 6, 7],[1, 8, 9]])`\n",
    "\n",
    "    in that case columns is the first dimension, and the observations or rows are the second dimension\n",
    "    this example has a shape of (2, 3)\n",
    "   \n",
    "tensor are multidimensional, with 3 or more dimensions "
   ]
  },
  {
   "cell_type": "code",
   "execution_count": 94,
   "id": "4678aa80-0918-47a1-a00a-d481b5d50ddb",
   "metadata": {},
   "outputs": [],
   "source": [
    "a = np.arange(7,20) # arange creates a vector from 0 to n\n",
    "a.shape\n",
    "b = np.array([[7, 8, 9],[8, 10, 20]])"
   ]
  },
  {
   "cell_type": "markdown",
   "id": "bed57deb-6bd4-41f0-9505-773054700f47",
   "metadata": {},
   "source": [
    "we can index the arrays of any dimension\n",
    "```\n",
    "a[2]   = 9\n",
    "b[1,2] = 20\n",
    "```"
   ]
  },
  {
   "cell_type": "markdown",
   "id": "87063eb4-f99b-4c48-89c2-5b189ff07e20",
   "metadata": {},
   "source": [
    "if the arrays are not the same length, numpy will apply \"broadcasting\" to equal the dimensions and shape of the arrays that are being operated"
   ]
  },
  {
   "cell_type": "markdown",
   "id": "ce9fcbca-6385-410d-bdf5-2186e5d27d88",
   "metadata": {},
   "source": [
    "example:"
   ]
  },
  {
   "cell_type": "code",
   "execution_count": 36,
   "id": "950014d6-1c44-40ea-aef9-ef8ac364257d",
   "metadata": {},
   "outputs": [
    {
     "name": "stdout",
     "output_type": "stream",
     "text": [
      "[6 7 8 9]\n",
      "(4,)\n",
      "[12 13 14 15 16]\n",
      "[[6]\n",
      " [7]\n",
      " [8]\n",
      " [9]]\n",
      "[[ 72  78  84  90  96]\n",
      " [ 84  91  98 105 112]\n",
      " [ 96 104 112 120 128]\n",
      " [108 117 126 135 144]]\n"
     ]
    }
   ],
   "source": [
    "c = np.arange(6, 10); print(c); print(c.shape) # vector 1 dimension, 4 elements\n",
    "d = np.arange(12,17); print(d) # vectos 1 dimension, 5 elements\n",
    "c_ = c[:,np.newaxis]; print(c_) # adding 1 dimension, matrix (4,1), 4 elements\n",
    "table = c[:,np.newaxis] * d \n",
    "print(table)"
   ]
  },
  {
   "cell_type": "markdown",
   "id": "0967f0d1-2253-4e81-b683-9a5fa7340954",
   "metadata": {},
   "source": [
    "### Ndarray Methods\n",
    "\n",
    "#### Array Conversion\n",
    "\n",
    "1. `tolist()` The contents of self as a nested list\n",
    "2. `item(*args)` standard python scalar corresponding to the item at the given location\n",
    "3. `itemset(*args)` equivalent to but faster than `self[args] = item` (element, value)\n",
    "4. `tobytes()` returns a Python string showing a copy of the raw contents of data memory.\n",
    "5. `tofile (file=, sep=”, format=”)` Write the contents of self to the open file object.\n",
    "6. `astype ({None})` Force conversion of this array to an array with the data type provided as the argument. If the argument is None, or equal to the data type of self, then return a copy of the array.\n",
    "7. `copy()` returns a copy of the array (which is always single-segment, and ALIGNED)\n",
    "\n",
    "8. `fill (scalar)` Fill an array with the scalar value (appropriately converted to the type of self). If the scalar value is an array or a sequence, then only the first element is used. This method is usually faster than a[...]=scalar or self.flat=scalar, and always interprets its argument as a scalar.\n"
   ]
  },
  {
   "cell_type": "code",
   "execution_count": null,
   "id": "e52390e8-72e9-430e-9036-ec53750bc147",
   "metadata": {},
   "outputs": [],
   "source": [
    "a = np.arange(12,21)\n",
    "a_list = a.tolist(); print(f'a = {a_list}') # converting array to a list\n",
    "\n",
    "# itemset()\n",
    "print('\\nitemset()') \n",
    "print(f'a[2] = {a.item(2)}')  \n",
    "a.itemset(2, 2); print(a)\n",
    "print(f'a[2] = {a.item(2)}')\n",
    "\n",
    "# tobytes() <--- tostring()\n",
    "print(f'\\n\\ntobytes()\\n{a.tobytes()}')\n",
    "\n",
    "# tofile()\n",
    "print('\\n\\ntofile()')\n",
    "print('tofile(file= ,sep= ,format= )')\n",
    "print('tofile(file= \"file_name\" ,sep= \"char to separate items\" , format= \"%3d format type\" )')\n",
    "a.tofile(file='test.txt', sep=' ', format='%.3s')\n",
    "\n",
    "# astype()\n",
    "print('\\n\\nastype() string')\n",
    "print(a.astype(np.str_))\n",
    "\n",
    "# fill(scalar)\n",
    "#  a.fill(4) \n"
   ]
  },
  {
   "cell_type": "markdown",
   "id": "1f29c18f-dd48-4f77-9032-9c5e8ffe7b0a",
   "metadata": {},
   "source": [
    "### Array Shape Manipulation\n",
    "\n",
    "1. `reshape (newshape, order=’C’)` Return an array that uses the same data as this array but has a new shape given by the newshape tuple (or a scalar to reshape as 1-d). The new shape must define an array with the same total number of elements.\n",
    "    You should reshape an array when you need to change the number of elements along one of the axes while maintaining the total number of elements. to match the requirements of a particular function or algorithm, or when you want to rearrange the data in an array to make it more amenable to analysis or plotting.\n",
    "\n",
    "2. "
   ]
  },
  {
   "cell_type": "code",
   "execution_count": 102,
   "id": "cb7ee393-8616-4965-b1c4-f738da3bfe44",
   "metadata": {},
   "outputs": [
    {
     "name": "stdout",
     "output_type": "stream",
     "text": [
      "SHAPE MANIPULATION \n",
      "\n",
      "arr.shape = (4, 5, 6)\n",
      "arr.size  = 120\n"
     ]
    }
   ],
   "source": [
    "arr = np.ones((4,5,6))\n",
    "print(f'SHAPE MANIPULATION \\n\\narr.shape = {arr.shape}\\narr.size  = {arr.size}')\n",
    "\n",
    "#reshape"
   ]
  },
  {
   "cell_type": "code",
   "execution_count": null,
   "id": "935526c5-7a57-43a7-adfe-942195e03d81",
   "metadata": {},
   "outputs": [],
   "source": []
  }
 ],
 "metadata": {
  "kernelspec": {
   "display_name": "py",
   "language": "python",
   "name": "plazi_data"
  },
  "language_info": {
   "codemirror_mode": {
    "name": "ipython",
    "version": 3
   },
   "file_extension": ".py",
   "mimetype": "text/x-python",
   "name": "python",
   "nbconvert_exporter": "python",
   "pygments_lexer": "ipython3",
   "version": "3.8.8"
  }
 },
 "nbformat": 4,
 "nbformat_minor": 5
}
