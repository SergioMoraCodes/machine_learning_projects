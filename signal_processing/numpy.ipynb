{
 "cells": [
  {
   "cell_type": "code",
   "execution_count": 2,
   "id": "425ff4ec-2a44-4f84-8c70-118491e9c8a1",
   "metadata": {},
   "outputs": [
    {
     "name": "stderr",
     "output_type": "stream",
     "text": [
      "C:\\Users\\sergi\\anaconda3\\lib\\site-packages\\scipy\\__init__.py:146: UserWarning: A NumPy version >=1.16.5 and <1.23.0 is required for this version of SciPy (detected version 1.23.1\n",
      "  warnings.warn(f\"A NumPy version >={np_minversion} and <{np_maxversion}\"\n"
     ]
    }
   ],
   "source": [
    "import numpy as np\n",
    "import matplotlib.pyplot as plt\n",
    "import scipy as sp"
   ]
  },
  {
   "cell_type": "markdown",
   "id": "6d67af93-87e7-475d-b71d-75246a6bdb77",
   "metadata": {},
   "source": [
    "### data types in numpy\n",
    "we can have scalars, vectors, matrix, and tensors\n",
    "\n",
    "scalars is adimensional, is a plain number like `(42)`\n",
    "\n",
    "vector is unidimensional, is a list of numbers liker `([1, 78, 98, 2, 6])`\n",
    "\n",
    "matrix is bidimensional, like a table with columns and rows `([[2, 6, 7],[1, 8, 9]])`\n",
    "\n",
    "    in that case columns is the first dimension, and the observations or rows are the second dimension\n",
    "    this example has a shape of (2, 3)\n",
    "   \n",
    "tensor are multidimensional, with 3 or more dimensions "
   ]
  },
  {
   "cell_type": "code",
   "execution_count": 11,
   "id": "4678aa80-0918-47a1-a00a-d481b5d50ddb",
   "metadata": {},
   "outputs": [],
   "source": [
    "a = np.arange(10) # arange creates a vector from 0 to n\n",
    "a.shape\n",
    "b = np.array([[7, 8, 9],[8, 10, 20]])"
   ]
  },
  {
   "cell_type": "markdown",
   "id": "bed57deb-6bd4-41f0-9505-773054700f47",
   "metadata": {},
   "source": [
    "we can index the arrays of any dimension\n",
    "```\n",
    "a[2]   = 2\n",
    "b[1,2] = 20\n",
    "```"
   ]
  },
  {
   "cell_type": "code",
   "execution_count": null,
   "id": "923bd8b4-c25f-4ff8-b370-1319985e25e8",
   "metadata": {},
   "outputs": [],
   "source": []
  }
 ],
 "metadata": {
  "kernelspec": {
   "display_name": "py",
   "language": "python",
   "name": "plazi_data"
  },
  "language_info": {
   "codemirror_mode": {
    "name": "ipython",
    "version": 3
   },
   "file_extension": ".py",
   "mimetype": "text/x-python",
   "name": "python",
   "nbconvert_exporter": "python",
   "pygments_lexer": "ipython3",
   "version": "3.8.8"
  }
 },
 "nbformat": 4,
 "nbformat_minor": 5
}
