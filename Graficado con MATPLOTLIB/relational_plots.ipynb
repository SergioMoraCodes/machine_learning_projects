{
 "cells": [
  {
   "cell_type": "markdown",
   "source": "## Making relational plots\n\n- A relational plot it's used for visualizing the statistical relationship between the data points. \n- Understanding how the variables in the dataset relate each other are termed as Statistical analysis.",
   "metadata": {
    "tags": [],
    "cell_id": "c3967f47-671e-41e1-9cdc-942210b2fc61",
    "deepnote_cell_type": "markdown",
    "deepnote_cell_height": 147.75
   }
  },
  {
   "cell_type": "code",
   "metadata": {
    "cell_id": "7a752e77980048cea2cad4077675a2ef",
    "tags": [],
    "deepnote_to_be_reexecuted": false,
    "source_hash": "4aeb06e",
    "execution_start": 1649985734367,
    "execution_millis": 2804,
    "deepnote_cell_type": "code",
    "deepnote_cell_height": 134.953125
   },
   "source": "import matplotlib.pyplot as plt\nimport seaborn as sns\nimport pandas as pd\nimport numpy as np",
   "execution_count": 1,
   "outputs": []
  },
  {
   "cell_type": "markdown",
   "source": "#### Parameters for plt\n    - plot(x, y)        # plot x and y using default line style and color\n    - plot(x, y, 'bo')  # plot x and y using blue circle markers\n    - plot(y)           # plot y using x as index array 0..N-1\n    - plot(y, 'r+')     # ditto, but with red plusses\n\n#### Parameter for sns\n    lineplot(*, x=None          , y=None            , hue=None    , size=None, \n                style=None      , data=None         , palette=None, \n                hue_order=None  , hue_norm=None     , sizes=None  , \n                size_order=None , size_norm=None    , dashes=True , \n                markers=None    , style_order=None  , units=None  , \n                estimator='mean', ci=95, n_boot=1000, seed=None   , \n                sort=True       , err_style='band'  , err_kws=None, \n                legend='auto'   , ax=None           , **kwargs)\n",
   "metadata": {
    "cell_id": "c96ed79c5e5c4a48ba26a59060987678",
    "tags": [],
    "deepnote_cell_type": "markdown",
    "deepnote_cell_height": 411.46875
   }
  },
  {
   "cell_type": "code",
   "metadata": {
    "cell_id": "a4c60cc4e4ab4a2297852dfcbfddbd82",
    "tags": [],
    "deepnote_to_be_reexecuted": false,
    "source_hash": "a8396efe",
    "execution_start": 1649985737176,
    "execution_millis": 1513,
    "deepnote_cell_type": "code",
    "deepnote_cell_height": 463.828125,
    "deepnote_output_heights": [
     366.875
    ]
   },
   "source": "sns.get_dataset_names()",
   "execution_count": 2,
   "outputs": [
    {
     "output_type": "execute_result",
     "execution_count": 2,
     "data": {
      "text/plain": "['anagrams',\n 'anscombe',\n 'attention',\n 'brain_networks',\n 'car_crashes',\n 'diamonds',\n 'dots',\n 'exercise',\n 'flights',\n 'fmri',\n 'gammas',\n 'geyser',\n 'iris',\n 'mpg',\n 'penguins',\n 'planets',\n 'taxis',\n 'tips',\n 'titanic']"
     },
     "metadata": {}
    }
   ]
  },
  {
   "cell_type": "code",
   "metadata": {
    "cell_id": "38cbc0e1ceb04f28b3fdff712ee7700a",
    "tags": [],
    "deepnote_to_be_reexecuted": false,
    "source_hash": "d980de1c",
    "execution_start": 1649985738158,
    "execution_millis": 99,
    "deepnote_cell_type": "code",
    "deepnote_cell_height": 80.953125
   },
   "source": "df = sns.load_dataset('tips')",
   "execution_count": 3,
   "outputs": []
  },
  {
   "cell_type": "code",
   "metadata": {
    "cell_id": "c4f0854572f94493bee0b23210db5b1c",
    "tags": [],
    "deepnote_to_be_reexecuted": false,
    "source_hash": "c085b6ba",
    "execution_start": 1649985738265,
    "execution_millis": 449,
    "owner_user_id": "3bc35f6e-3bb3-4aa9-bdbd-f6d7a1faca9f",
    "deepnote_cell_type": "code",
    "deepnote_cell_height": 410.34375
   },
   "source": "df.head()",
   "execution_count": 4,
   "outputs": [
    {
     "output_type": "execute_result",
     "execution_count": 4,
     "data": {
      "application/vnd.deepnote.dataframe.v3+json": {
       "column_count": 7,
       "row_count": 5,
       "columns": [
        {
         "name": "total_bill",
         "dtype": "float64",
         "stats": {
          "unique_count": 5,
          "nan_count": 0,
          "min": "10.34",
          "max": "24.59",
          "histogram": [
           {
            "bin_start": 10.34,
            "bin_end": 11.765,
            "count": 1
           },
           {
            "bin_start": 11.765,
            "bin_end": 13.19,
            "count": 0
           },
           {
            "bin_start": 13.19,
            "bin_end": 14.615,
            "count": 0
           },
           {
            "bin_start": 14.615,
            "bin_end": 16.04,
            "count": 0
           },
           {
            "bin_start": 16.04,
            "bin_end": 17.465,
            "count": 1
           },
           {
            "bin_start": 17.465,
            "bin_end": 18.89,
            "count": 0
           },
           {
            "bin_start": 18.89,
            "bin_end": 20.314999999999998,
            "count": 0
           },
           {
            "bin_start": 20.314999999999998,
            "bin_end": 21.740000000000002,
            "count": 1
           },
           {
            "bin_start": 21.740000000000002,
            "bin_end": 23.165,
            "count": 0
           },
           {
            "bin_start": 23.165,
            "bin_end": 24.59,
            "count": 2
           }
          ]
         }
        },
        {
         "name": "tip",
         "dtype": "float64",
         "stats": {
          "unique_count": 5,
          "nan_count": 0,
          "min": "1.01",
          "max": "3.61",
          "histogram": [
           {
            "bin_start": 1.01,
            "bin_end": 1.27,
            "count": 1
           },
           {
            "bin_start": 1.27,
            "bin_end": 1.5299999999999998,
            "count": 0
           },
           {
            "bin_start": 1.5299999999999998,
            "bin_end": 1.7899999999999998,
            "count": 1
           },
           {
            "bin_start": 1.7899999999999998,
            "bin_end": 2.05,
            "count": 0
           },
           {
            "bin_start": 2.05,
            "bin_end": 2.3099999999999996,
            "count": 0
           },
           {
            "bin_start": 2.3099999999999996,
            "bin_end": 2.5699999999999994,
            "count": 0
           },
           {
            "bin_start": 2.5699999999999994,
            "bin_end": 2.8299999999999996,
            "count": 0
           },
           {
            "bin_start": 2.8299999999999996,
            "bin_end": 3.09,
            "count": 0
           },
           {
            "bin_start": 3.09,
            "bin_end": 3.3499999999999996,
            "count": 1
           },
           {
            "bin_start": 3.3499999999999996,
            "bin_end": 3.61,
            "count": 2
           }
          ]
         }
        },
        {
         "name": "sex",
         "dtype": "category",
         "stats": {
          "unique_count": 2,
          "nan_count": 0,
          "categories": [
           {
            "name": "Male",
            "count": 3
           },
           {
            "name": "Female",
            "count": 2
           }
          ]
         }
        },
        {
         "name": "smoker",
         "dtype": "category",
         "stats": {
          "unique_count": 1,
          "nan_count": 0,
          "categories": [
           {
            "name": "No",
            "count": 5
           }
          ]
         }
        },
        {
         "name": "day",
         "dtype": "category",
         "stats": {
          "unique_count": 1,
          "nan_count": 0,
          "categories": [
           {
            "name": "Sun",
            "count": 5
           }
          ]
         }
        },
        {
         "name": "time",
         "dtype": "category",
         "stats": {
          "unique_count": 1,
          "nan_count": 0,
          "categories": [
           {
            "name": "Dinner",
            "count": 5
           }
          ]
         }
        },
        {
         "name": "size",
         "dtype": "int64",
         "stats": {
          "unique_count": 3,
          "nan_count": 0,
          "min": "2",
          "max": "4",
          "histogram": [
           {
            "bin_start": 2,
            "bin_end": 2.2,
            "count": 2
           },
           {
            "bin_start": 2.2,
            "bin_end": 2.4,
            "count": 0
           },
           {
            "bin_start": 2.4,
            "bin_end": 2.6,
            "count": 0
           },
           {
            "bin_start": 2.6,
            "bin_end": 2.8,
            "count": 0
           },
           {
            "bin_start": 2.8,
            "bin_end": 3,
            "count": 0
           },
           {
            "bin_start": 3,
            "bin_end": 3.2,
            "count": 2
           },
           {
            "bin_start": 3.2,
            "bin_end": 3.4000000000000004,
            "count": 0
           },
           {
            "bin_start": 3.4000000000000004,
            "bin_end": 3.6,
            "count": 0
           },
           {
            "bin_start": 3.6,
            "bin_end": 3.8,
            "count": 0
           },
           {
            "bin_start": 3.8,
            "bin_end": 4,
            "count": 1
           }
          ]
         }
        },
        {
         "name": "_deepnote_index_column",
         "dtype": "int64"
        }
       ],
       "rows": [
        {
         "total_bill": 16.99,
         "tip": 1.01,
         "sex": "Female",
         "smoker": "No",
         "day": "Sun",
         "time": "Dinner",
         "size": 2,
         "_deepnote_index_column": 0
        },
        {
         "total_bill": 10.34,
         "tip": 1.66,
         "sex": "Male",
         "smoker": "No",
         "day": "Sun",
         "time": "Dinner",
         "size": 3,
         "_deepnote_index_column": 1
        },
        {
         "total_bill": 21.01,
         "tip": 3.5,
         "sex": "Male",
         "smoker": "No",
         "day": "Sun",
         "time": "Dinner",
         "size": 3,
         "_deepnote_index_column": 2
        },
        {
         "total_bill": 23.68,
         "tip": 3.31,
         "sex": "Male",
         "smoker": "No",
         "day": "Sun",
         "time": "Dinner",
         "size": 2,
         "_deepnote_index_column": 3
        },
        {
         "total_bill": 24.59,
         "tip": 3.61,
         "sex": "Female",
         "smoker": "No",
         "day": "Sun",
         "time": "Dinner",
         "size": 4,
         "_deepnote_index_column": 4
        }
       ]
      },
      "text/plain": "   total_bill   tip     sex smoker  day    time  size\n0       16.99  1.01  Female     No  Sun  Dinner     2\n1       10.34  1.66    Male     No  Sun  Dinner     3\n2       21.01  3.50    Male     No  Sun  Dinner     3\n3       23.68  3.31    Male     No  Sun  Dinner     2\n4       24.59  3.61  Female     No  Sun  Dinner     4",
      "text/html": "<div>\n<style scoped>\n    .dataframe tbody tr th:only-of-type {\n        vertical-align: middle;\n    }\n\n    .dataframe tbody tr th {\n        vertical-align: top;\n    }\n\n    .dataframe thead th {\n        text-align: right;\n    }\n</style>\n<table border=\"1\" class=\"dataframe\">\n  <thead>\n    <tr style=\"text-align: right;\">\n      <th></th>\n      <th>total_bill</th>\n      <th>tip</th>\n      <th>sex</th>\n      <th>smoker</th>\n      <th>day</th>\n      <th>time</th>\n      <th>size</th>\n    </tr>\n  </thead>\n  <tbody>\n    <tr>\n      <th>0</th>\n      <td>16.99</td>\n      <td>1.01</td>\n      <td>Female</td>\n      <td>No</td>\n      <td>Sun</td>\n      <td>Dinner</td>\n      <td>2</td>\n    </tr>\n    <tr>\n      <th>1</th>\n      <td>10.34</td>\n      <td>1.66</td>\n      <td>Male</td>\n      <td>No</td>\n      <td>Sun</td>\n      <td>Dinner</td>\n      <td>3</td>\n    </tr>\n    <tr>\n      <th>2</th>\n      <td>21.01</td>\n      <td>3.50</td>\n      <td>Male</td>\n      <td>No</td>\n      <td>Sun</td>\n      <td>Dinner</td>\n      <td>3</td>\n    </tr>\n    <tr>\n      <th>3</th>\n      <td>23.68</td>\n      <td>3.31</td>\n      <td>Male</td>\n      <td>No</td>\n      <td>Sun</td>\n      <td>Dinner</td>\n      <td>2</td>\n    </tr>\n    <tr>\n      <th>4</th>\n      <td>24.59</td>\n      <td>3.61</td>\n      <td>Female</td>\n      <td>No</td>\n      <td>Sun</td>\n      <td>Dinner</td>\n      <td>4</td>\n    </tr>\n  </tbody>\n</table>\n</div>"
     },
     "metadata": {}
    }
   ]
  },
  {
   "cell_type": "code",
   "metadata": {
    "cell_id": "a37cf5955ee34efcb32b9fb114cd7789",
    "tags": [],
    "deepnote_to_be_reexecuted": false,
    "source_hash": "b623e53d",
    "execution_start": 1649985738377,
    "execution_millis": 2,
    "deepnote_cell_type": "code",
    "deepnote_cell_height": 65.953125
   },
   "source": "",
   "execution_count": 4,
   "outputs": []
  },
  {
   "cell_type": "markdown",
   "source": "<a style='text-decoration:none;line-height:16px;display:flex;color:#5B5B62;padding:10px;justify-content:end;' href='https://deepnote.com?utm_source=created-in-deepnote-cell&projectId=1e370e8e-dbeb-4c83-b321-fe23667b91ee' target=\"_blank\">\n<img alt='Created in deepnote.com' style='display:inline;max-height:16px;margin:0px;margin-right:7.5px;' src='data:image/svg+xml;base64,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' > </img>\nCreated in <span style='font-weight:600;margin-left:4px;'>Deepnote</span></a>",
   "metadata": {
    "tags": [],
    "created_in_deepnote_cell": true,
    "deepnote_cell_type": "markdown"
   }
  }
 ],
 "nbformat": 4,
 "nbformat_minor": 2,
 "metadata": {
  "orig_nbformat": 2,
  "deepnote": {
   "is_reactive": false
  },
  "deepnote_notebook_id": "05663432-82f4-43c3-ac36-2555613418b2",
  "deepnote_execution_queue": []
 }
}